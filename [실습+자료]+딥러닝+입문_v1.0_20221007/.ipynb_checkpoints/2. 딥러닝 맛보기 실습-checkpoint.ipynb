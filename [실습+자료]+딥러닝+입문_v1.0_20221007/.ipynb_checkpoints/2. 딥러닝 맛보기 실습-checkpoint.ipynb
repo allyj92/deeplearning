{
 "cells": [
  {
   "cell_type": "markdown",
   "id": "fe42f079",
   "metadata": {},
   "source": [
    "# 딥러닝 맛보기 실습"
   ]
  },
  {
   "cell_type": "markdown",
   "id": "c43ce1d1",
   "metadata": {},
   "source": [
    "## 폐암 수술 환자의 생존율 예측 "
   ]
  },
  {
   "cell_type": "markdown",
   "id": "1bc1d3b6",
   "metadata": {},
   "source": [
    "### 폐암 수술 환자의 생존율 예측 데이타셋 살펴보기\n",
    "- 폐암 환자 수술 기록 데이터\n",
    "- 총 470개 관측치, 17개 속성으로 구성\n",
    "- 설명변수(X) – 16개, 종속변수(클래스, 레이블, Y) – 1개(1:생존, 0:사망)"
   ]
  },
  {
   "cell_type": "markdown",
   "id": "3a7b3b8e",
   "metadata": {},
   "source": [
    "<img src=\"./img/폐암환자데이타.jpg\" align=left width=600>"
   ]
  },
  {
   "cell_type": "markdown",
   "id": "f87409df",
   "metadata": {},
   "source": [
    "### 1. 실행 환경 준비"
   ]
  },
  {
   "cell_type": "code",
   "execution_count": null,
   "id": "640f7cc9",
   "metadata": {},
   "outputs": [],
   "source": [
    "# 경고 무시\n",
    "from warnings import filterwarnings\n",
    "filterwarnings(\"ignore\")"
   ]
  },
  {
   "cell_type": "code",
   "execution_count": null,
   "id": "b47a43d7",
   "metadata": {},
   "outputs": [],
   "source": [
    "# 모듈 불러오기\n",
    "from tensorflow.keras.models import Sequential  \n",
    "from tensorflow.keras.layers import Dense       \n",
    "import numpy as np\n",
    "import tensorflow as tf\n",
    "tf.random.set_seed(0)"
   ]
  },
  {
   "cell_type": "markdown",
   "id": "e1fb6ee0",
   "metadata": {},
   "source": [
    "### 2. 데이터 준비"
   ]
  },
  {
   "cell_type": "markdown",
   "id": "7adf4916",
   "metadata": {},
   "source": [
    "### 1) 데이타 불러오기"
   ]
  },
  {
   "cell_type": "code",
   "execution_count": null,
   "id": "7dfd3371",
   "metadata": {},
   "outputs": [],
   "source": [
    "import pandas as pd\n",
    "df = pd.read_csv(\"./data/ThoraricSurgery3.csv\", header=None)\n",
    "df"
   ]
  },
  {
   "cell_type": "markdown",
   "id": "4e88f6a4",
   "metadata": {},
   "source": [
    "### 2) 설명변수와 종속변수 나누기"
   ]
  },
  {
   "cell_type": "code",
   "execution_count": null,
   "id": "c946f904",
   "metadata": {},
   "outputs": [],
   "source": [
    "X = df.iloc[:, 0:16]  # 설명변수(X) - 환자의 진찰 기록을 X로 지정\n",
    "y = df.iloc[:, 16]    # 종속변수(y) - 수술후 생존: 1, 수술 후 사망: 0"
   ]
  },
  {
   "cell_type": "code",
   "execution_count": null,
   "id": "c3fd9811",
   "metadata": {},
   "outputs": [],
   "source": [
    "X"
   ]
  },
  {
   "cell_type": "code",
   "execution_count": null,
   "id": "aad5d70d",
   "metadata": {
    "scrolled": true
   },
   "outputs": [],
   "source": [
    "y "
   ]
  },
  {
   "cell_type": "markdown",
   "id": "c41307db",
   "metadata": {},
   "source": [
    "### 3) 데이타 시각화 "
   ]
  },
  {
   "cell_type": "code",
   "execution_count": null,
   "id": "2837936d",
   "metadata": {},
   "outputs": [],
   "source": [
    "# 컬럼 이름 변경\n",
    "df.rename(columns = {16:'label'}, inplace=True)\n",
    "df"
   ]
  },
  {
   "cell_type": "code",
   "execution_count": null,
   "id": "1f86ef60",
   "metadata": {},
   "outputs": [],
   "source": [
    "df['label'].value_counts()"
   ]
  },
  {
   "cell_type": "code",
   "execution_count": null,
   "id": "acffd1e4",
   "metadata": {},
   "outputs": [],
   "source": [
    "df['label'].value_counts().plot(kind='bar')"
   ]
  },
  {
   "cell_type": "markdown",
   "id": "45cfc448",
   "metadata": {},
   "source": [
    "### 3. 딥러닝 모델 정의\n",
    "- 1) 입력층 : 입력변수가 16개, input_dim = 16 또는 input_shape = (16, )로 설정\n",
    "- 2) 은닉층 : 30개의 노드, 활성화 함수는 relu로 설정\n",
    "- 3) 출력층 \n",
    "    - 출력 값이 1개, Dense의 노드 수를 1으로 설정\n",
    "    - 출력층의 활성화 함수 : 이항 분류이므로 활성화함수를 sigmoid로 사용"
   ]
  },
  {
   "cell_type": "code",
   "execution_count": null,
   "id": "f039e872",
   "metadata": {},
   "outputs": [],
   "source": [
    "model = Sequential()  # 딥러닝 모델의 구조 생성\n",
    "model.add(Dense(30, input_dim = 16, activation='relu'))   # 입력층(16개의 입력) + 은닉층(30개 노드)\n",
    "model.add(Dense(1, activation='sigmoid')) # 출력층(1개 출력) "
   ]
  },
  {
   "cell_type": "code",
   "execution_count": null,
   "id": "cd209047",
   "metadata": {},
   "outputs": [],
   "source": [
    "# 모델 요약\n",
    "model.summary()"
   ]
  },
  {
   "cell_type": "markdown",
   "id": "734f0ae9",
   "metadata": {},
   "source": [
    "### 4. 컴파일 설정\n",
    "- (1) loss 함수 : 이항 분류의 오차 함수인 binary_crossentropy 사용\n",
    "- (2) 옵티마이저(최적화 함수) : adam \n",
    "- (3) 평가 지표 : 정확도(acuuracy)"
   ]
  },
  {
   "cell_type": "code",
   "execution_count": null,
   "id": "b06afcce",
   "metadata": {},
   "outputs": [],
   "source": [
    "model.compile(loss='binary_crossentropy', \n",
    "              optimizer='adam', \n",
    "              metrics=['accuracy']) "
   ]
  },
  {
   "cell_type": "markdown",
   "id": "5acb24cd",
   "metadata": {},
   "source": [
    "### 5. 모델 훈련\n",
    "- (1) epoch : 전체 샘플이 50회 반복 \n",
    "- (2) batch_size : 한 번에 입력되는 값은 16개\n",
    "- (3) 반복 횟수 : 470개 관측치 / 16개 배치 사이즈 = 29.375 = 30번, 각 에포크마다 30번 반복\n",
    "- (4) 가중치 업데이트 총 횟수 : 에포크수 50회 * 각 에포크마다 30번 반복 = 1500번 업데이트"
   ]
  },
  {
   "cell_type": "code",
   "execution_count": null,
   "id": "8859852d",
   "metadata": {},
   "outputs": [],
   "source": [
    "history = model.fit(X, y, epochs=50, batch_size=16)"
   ]
  },
  {
   "cell_type": "markdown",
   "id": "844cf0b7",
   "metadata": {},
   "source": [
    "### 5. 모델 평가"
   ]
  },
  {
   "cell_type": "code",
   "execution_count": null,
   "id": "d49ce9c3",
   "metadata": {},
   "outputs": [],
   "source": [
    "print(\"\\n Accuracy: %.4f\" % (model.evaluate(X, y)[1]))"
   ]
  },
  {
   "cell_type": "markdown",
   "id": "26c972ba",
   "metadata": {},
   "source": [
    "- 결과 해석)\n",
    "- 정확도가 85.11%로 측정됨"
   ]
  },
  {
   "cell_type": "markdown",
   "id": "b3467a2e",
   "metadata": {},
   "source": [
    "### 6. 학습 과정 시각화 "
   ]
  },
  {
   "cell_type": "code",
   "execution_count": null,
   "id": "7a0cb3bf",
   "metadata": {},
   "outputs": [],
   "source": [
    "import matplotlib.pyplot as plt\n",
    "\n",
    "his_dict = history.history\n",
    "loss = his_dict['loss']\n",
    "\n",
    "epochs = range(1, len(loss) + 1)\n",
    "fig = plt.figure(figsize = (10, 5))\n",
    "\n",
    "# 훈련 및 검증 손실 그리기\n",
    "ax1 = fig.add_subplot(1, 2, 1)\n",
    "ax1.plot(epochs, loss, color = 'red', label = 'loss')\n",
    "ax1.set_title('loss')\n",
    "ax1.set_xlabel('epochs')\n",
    "ax1.set_ylabel('loss')\n",
    "ax1.legend()\n",
    "\n",
    "acc = his_dict['accuracy']\n",
    "\n",
    "# 훈련 및 검증 정확도 그리기\n",
    "ax2 = fig.add_subplot(1, 2, 2)\n",
    "ax2.plot(epochs, acc, color = 'blue', label = 'accuracy')\n",
    "ax2.set_title('accuracy')\n",
    "ax2.set_xlabel('epochs')\n",
    "ax2.set_ylabel('accuracy')\n",
    "ax2.legend()\n",
    "\n",
    "plt.show()"
   ]
  },
  {
   "cell_type": "markdown",
   "id": "95fa1c21",
   "metadata": {},
   "source": [
    "### 7. 예측"
   ]
  },
  {
   "cell_type": "code",
   "execution_count": null,
   "id": "73f37e33",
   "metadata": {},
   "outputs": [],
   "source": [
    "X[0:1]"
   ]
  },
  {
   "cell_type": "code",
   "execution_count": null,
   "id": "cab2b082",
   "metadata": {},
   "outputs": [],
   "source": [
    "model.predict([[0, 2.4, 1, 0, 1, 0, 1, 1, 1, 0, 0, 0, 0, 0, 0, 50]])"
   ]
  },
  {
   "cell_type": "code",
   "execution_count": null,
   "id": "a6adb3ff",
   "metadata": {},
   "outputs": [],
   "source": []
  }
 ],
 "metadata": {
  "kernelspec": {
   "display_name": "Python 3 (ipykernel)",
   "language": "python",
   "name": "python3"
  },
  "language_info": {
   "codemirror_mode": {
    "name": "ipython",
    "version": 3
   },
   "file_extension": ".py",
   "mimetype": "text/x-python",
   "name": "python",
   "nbconvert_exporter": "python",
   "pygments_lexer": "ipython3",
   "version": "3.7.6"
  }
 },
 "nbformat": 4,
 "nbformat_minor": 5
}
