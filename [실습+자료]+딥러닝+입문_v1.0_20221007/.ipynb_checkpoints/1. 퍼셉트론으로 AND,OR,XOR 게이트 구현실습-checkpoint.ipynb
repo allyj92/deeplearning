{
 "cells": [
  {
   "cell_type": "markdown",
   "metadata": {},
   "source": [
    "# 퍼셉트론(perceptron)"
   ]
  },
  {
   "cell_type": "markdown",
   "metadata": {},
   "source": [
    "## 1. 단층 퍼셉트론"
   ]
  },
  {
   "cell_type": "code",
   "execution_count": null,
   "metadata": {},
   "outputs": [],
   "source": [
    "# 경고 무시\n",
    "from warnings import filterwarnings\n",
    "filterwarnings(\"ignore\")"
   ]
  },
  {
   "cell_type": "markdown",
   "metadata": {},
   "source": [
    "### 1) 단층 퍼셉트론으로 OR 게이트 구현"
   ]
  },
  {
   "cell_type": "markdown",
   "metadata": {},
   "source": [
    "|x1|x2|y|\n",
    "|---|---|---|\n",
    "|0|0|0|\n",
    "|1|0|1|\n",
    "|0|1|1|\n",
    "|1|1|1|"
   ]
  },
  {
   "cell_type": "code",
   "execution_count": null,
   "metadata": {},
   "outputs": [],
   "source": [
    "# 단층 퍼셉트론으로 OR 게이트 구현\n",
    "import tensorflow as tf\n",
    "import numpy as np\n",
    "\n",
    "from tensorflow.keras.models import Sequential\n",
    "from tensorflow.keras.layers import Dense\n",
    "from tensorflow.keras.optimizers import SGD\n",
    "from tensorflow.keras.losses import mse\n",
    "\n",
    "tf.random.set_seed(0)\n",
    "\n",
    "# 데이터 준비\n",
    "data = np.array([[0, 0], [1, 0], [0, 1], [1, 1]])\n",
    "label = np.array([[0], [1], [1], [1]])\n",
    "\n",
    "# 모델 구성 - 단층 퍼셉트론 구성\n",
    "model = Sequential()\n",
    "model.add(Dense(1, input_shape = (2, ), activation = 'linear')) \n",
    "\n",
    "# 컴파일 설정\n",
    "model.compile(optimizer = SGD(), loss = mse, metrics = ['acc']) \n",
    "\n",
    "# 모델 학습\n",
    "model.fit(data, label, epochs = 500)"
   ]
  },
  {
   "cell_type": "code",
   "execution_count": null,
   "metadata": {},
   "outputs": [],
   "source": [
    "# 모델 가중치(w), 편향(b) 확인하기\n",
    "model.get_weights() # 2개의 가중치, 1개의 편향(bias)"
   ]
  },
  {
   "cell_type": "code",
   "execution_count": null,
   "metadata": {},
   "outputs": [],
   "source": [
    "# 모델 평가\n",
    "model.evaluate(data, label)"
   ]
  },
  {
   "cell_type": "code",
   "execution_count": null,
   "metadata": {},
   "outputs": [],
   "source": [
    "# 모델 예측\n",
    "result = model.predict(data)\n",
    "print(result)"
   ]
  },
  {
   "cell_type": "markdown",
   "metadata": {},
   "source": [
    "### 2) 단층 퍼셉트론으로 AND 게이트 구현"
   ]
  },
  {
   "cell_type": "markdown",
   "metadata": {},
   "source": [
    "|x1|x2|y|\n",
    "|---|---|---|\n",
    "|0|0|0|\n",
    "|1|0|0|\n",
    "|0|1|0|\n",
    "|1|1|1|"
   ]
  },
  {
   "cell_type": "code",
   "execution_count": null,
   "metadata": {},
   "outputs": [],
   "source": [
    "# 단층 퍼셉트론으로 AND 게이트 구현\n",
    "import tensorflow as tf\n",
    "import numpy as np\n",
    "\n",
    "from tensorflow.keras.models import Sequential\n",
    "from tensorflow.keras.layers import Dense\n",
    "from tensorflow.keras.optimizers import SGD\n",
    "from tensorflow.keras.losses import mse\n",
    "\n",
    "tf.random.set_seed(0)\n",
    "\n",
    "# 데이터 준비\n",
    "data = np.array([[0, 0], [1, 0], [0, 1], [1, 1]])\n",
    "label = np.array([[0], [0], [0], [1]])\n",
    "\n",
    "# 모델 구성- 단층 퍼셉트론 구성\n",
    "model = Sequential()\n",
    "model.add(Dense(1, input_shape = (2, ), activation = 'linear')) \n",
    "\n",
    "# 컴파일 설정\n",
    "model.compile(optimizer = SGD(), loss = mse, metrics = ['acc']) \n",
    "\n",
    "# 모델 학습\n",
    "model.fit(data, label, epochs = 500)"
   ]
  },
  {
   "cell_type": "code",
   "execution_count": null,
   "metadata": {},
   "outputs": [],
   "source": [
    "# 모델 가중치(w), 편향(b) 확인\n",
    "model.get_weights() # 2개의 가중치, 1개의 편향(bias)"
   ]
  },
  {
   "cell_type": "code",
   "execution_count": null,
   "metadata": {},
   "outputs": [],
   "source": [
    "# 모델 평가\n",
    "model.evaluate(data, label)"
   ]
  },
  {
   "cell_type": "code",
   "execution_count": null,
   "metadata": {},
   "outputs": [],
   "source": [
    "# 모델 예측\n",
    "result = model.predict(data)\n",
    "print(result)"
   ]
  },
  {
   "cell_type": "markdown",
   "metadata": {},
   "source": [
    "### 3) 단층 퍼셉트론으로 XOR 게이트 구현 --> `실패`\n",
    "- 500번 에폭으로 학습 진행 -> 모델은 학습되지 않음 -> 실패\n",
    "- 10000번의 에폭으로 학습 진행 -> 모델은 학습되지 않음 -> 실패\n",
    "- 한 개의 직선을 이용해서는 XOR 문제를 해결할 수 없음 -> 다중 퍼셉트론(MLP; Multi-Layer Perceptron) 등장"
   ]
  },
  {
   "cell_type": "markdown",
   "metadata": {},
   "source": [
    "#### (1) 에폭 500번으로 모델 학습"
   ]
  },
  {
   "cell_type": "code",
   "execution_count": null,
   "metadata": {
    "scrolled": false
   },
   "outputs": [],
   "source": [
    "# 단층 퍼셉트론으로 XOR 게이트 구현\n",
    "import tensorflow as tf\n",
    "import numpy as np\n",
    "\n",
    "from tensorflow.keras.models import Sequential\n",
    "from tensorflow.keras.layers import Dense\n",
    "from tensorflow.keras.optimizers import SGD\n",
    "from tensorflow.keras.losses import mse\n",
    "\n",
    "tf.random.set_seed(0)\n",
    "\n",
    "# 데이터 준비\n",
    "data = np.array([[0, 0], [1, 0], [0, 1], [1, 1]])\n",
    "label = np.array([[0], [1], [1], [0]])\n",
    "\n",
    "# 모델 구성하\n",
    "model = Sequential()\n",
    "model.add(Dense(1, input_shape = (2, ), activation = 'linear'))\n",
    "\n",
    "# 컴파일 설정\n",
    "model.compile(optimizer = SGD(), loss = mse, metrics = ['acc'])\n",
    "\n",
    "# 모델 학습\n",
    "model.fit(data, label, epochs = 500)"
   ]
  },
  {
   "cell_type": "markdown",
   "metadata": {},
   "source": [
    "#### (2) 에폭 10000번으로 모델 학습"
   ]
  },
  {
   "cell_type": "code",
   "execution_count": null,
   "metadata": {},
   "outputs": [],
   "source": [
    "# 단층 퍼셉트론으로 XOR 게이트 구현\n",
    "import tensorflow as tf\n",
    "import numpy as np\n",
    "\n",
    "from tensorflow.keras.models import Sequential\n",
    "from tensorflow.keras.layers import Dense\n",
    "from tensorflow.keras.optimizers import SGD\n",
    "from tensorflow.keras.losses import mse\n",
    "\n",
    "tf.random.set_seed(0)\n",
    "\n",
    "# 데이터 준비\n",
    "data = np.array([[0, 0], [1, 0], [0, 1], [1, 1]])\n",
    "label = np.array([[0], [1], [1], [0]])\n",
    "\n",
    "# 모델 구성하\n",
    "model = Sequential()\n",
    "model.add(Dense(1, input_shape = (2, ), activation = 'linear'))\n",
    "\n",
    "# 컴파일 설정\n",
    "model.compile(optimizer = SGD(), loss = mse, metrics = ['acc'])\n",
    "\n",
    "# 모델 학습\n",
    "model.fit(data, label, epochs = 1000)"
   ]
  },
  {
   "cell_type": "markdown",
   "metadata": {},
   "source": [
    "## 2. 다층 퍼셉트론"
   ]
  },
  {
   "cell_type": "markdown",
   "metadata": {},
   "source": [
    "### 1) 다층 퍼셉트론을 이용하여 XOR 게이트 구현\n",
    "- Dense층에 32개의 노드(퍼셉트론) 사용\n",
    "- 비선형 활성화 함수 사용, activation='relu'\n",
    "- 최적화 함수, optimizer = Adam()"
   ]
  },
  {
   "cell_type": "code",
   "execution_count": null,
   "metadata": {},
   "outputs": [],
   "source": [
    "# 다층 퍼셉트론을 이용하여 XOR 게이트 구현\n",
    "import tensorflow as tf\n",
    "import numpy as np\n",
    "from tensorflow.keras.models import Sequential\n",
    "from tensorflow.keras.layers import Dense\n",
    "from tensorflow.keras.optimizers import Adam\n",
    "from tensorflow.keras.losses import mse\n",
    "\n",
    "tf.random.set_seed(0)\n",
    "\n",
    "# 데이터 준비\n",
    "data = np.array([[0, 0], [1, 0], [0, 1], [1, 1]])\n",
    "label = np.array([[0], [1], [1], [0]])\n",
    "\n",
    "# 모델 구성\n",
    "model = Sequential()\n",
    "model.add(Dense(32, input_shape = (2, ), activation = 'relu'))  # 32개의 노드(퍼셉트론) 사용\n",
    "model.add(Dense(1, activation = 'sigmoid'))\n",
    "\n",
    "# 컴파일 설정\n",
    "model.compile(optimizer = Adam(), loss = mse, metrics = ['acc'])\n",
    "\n",
    "# 모델 학습\n",
    "model.fit(data, label, epochs = 500)"
   ]
  },
  {
   "cell_type": "code",
   "execution_count": null,
   "metadata": {},
   "outputs": [],
   "source": [
    "# 모델 평가\n",
    "model.evaluate(data, label)"
   ]
  },
  {
   "cell_type": "code",
   "execution_count": null,
   "metadata": {},
   "outputs": [],
   "source": [
    "# 모델 예측\n",
    "result = model.predict(data)\n",
    "print(result)"
   ]
  }
 ],
 "metadata": {
  "kernelspec": {
   "display_name": "Python 3 (ipykernel)",
   "language": "python",
   "name": "python3"
  },
  "language_info": {
   "codemirror_mode": {
    "name": "ipython",
    "version": 3
   },
   "file_extension": ".py",
   "mimetype": "text/x-python",
   "name": "python",
   "nbconvert_exporter": "python",
   "pygments_lexer": "ipython3",
   "version": "3.7.6"
  }
 },
 "nbformat": 4,
 "nbformat_minor": 4
}
