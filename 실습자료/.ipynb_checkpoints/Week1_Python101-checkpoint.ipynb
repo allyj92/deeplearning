{
  "nbformat": 4,
  "nbformat_minor": 0,
  "metadata": {
    "colab": {
      "provenance": []
    },
    "kernelspec": {
      "name": "python3",
      "display_name": "Python 3"
    },
    "accelerator": "GPU"
  },
  "cells": [
    {
      "cell_type": "markdown",
      "metadata": {
        "id": "0JDlHhtYxv7f"
      },
      "source": [
        "# **Deep Learning Programming with Python**\n",
        "## Week1: Python 101\n",
        "**Acknowledgement**\n",
        "\n",
        "Many of Today's contents are adopted from the below resources:\n",
        "\n",
        "1. https://colab.research.google.com/github/jckantor/CBE30338/blob/master/docs/01.02-Python-Basics.ipynb\n",
        "2. https://colab.research.google.com/github/cs231n/cs231n.github.io/blob/master/python-colab.ipynb\n",
        "3. https://colab.research.google.com/github/ryanorsinger/101-exercises/blob/main/101-exercises.ipynb#scrollTo=spHq2mH3_0cg\n",
        "----\n"
      ]
    },
    {
      "cell_type": "markdown",
      "source": [
        "# Python 101"
      ],
      "metadata": {
        "id": "YpeEFmioMpNb"
      }
    },
    {
      "cell_type": "markdown",
      "metadata": {
        "id": "CIBS-LtiCcY8"
      },
      "source": [
        "### First, let's check Python version!"
      ]
    },
    {
      "cell_type": "code",
      "metadata": {
        "id": "HZUgoIFLx3I8"
      },
      "source": [
        "!python --version"
      ],
      "execution_count": null,
      "outputs": []
    },
    {
      "cell_type": "code",
      "source": [
        "!ls"
      ],
      "metadata": {
        "id": "j33swMzBFMwQ"
      },
      "execution_count": null,
      "outputs": []
    },
    {
      "cell_type": "markdown",
      "metadata": {
        "id": "sSv-DWiuE-O2"
      },
      "source": [
        "### Hello, Artificial Intelligence!"
      ]
    },
    {
      "cell_type": "code",
      "metadata": {
        "id": "XOEprdr3yCKC"
      },
      "source": [
        "print ('Hello, Artificial Intelligence!')"
      ],
      "execution_count": null,
      "outputs": []
    },
    {
      "cell_type": "markdown",
      "metadata": {
        "id": "omvDAw7pyTaI"
      },
      "source": [
        "## Python basic variable types\n",
        "### 1. Numbers\n",
        "#### int: integer, e.g., 1, 2, 5, 100\n",
        "#### float: real number, e.g. 1. 23, 3.14"
      ]
    },
    {
      "cell_type": "code",
      "metadata": {
        "id": "sM-O3JFMyZdL"
      },
      "source": [
        "'''\n",
        "Python is a dynamically-typed language!\n",
        "So, we do not use somethinhg like >>> int x = 3 >> float x = 3;\n",
        "Instead, we use >>> x = 3\n",
        "'''\n",
        "x = 3 # assign the variable x as 3\n",
        "print (type(x))\n",
        "x = 3.14\n",
        "print (type(x))\n",
        "x = 'hello'\n",
        "print (type(x))"
      ],
      "execution_count": null,
      "outputs": []
    },
    {
      "cell_type": "code",
      "metadata": {
        "id": "lRcbrSOuyePV"
      },
      "source": [
        "x = 3\n",
        "print (x) # 3\n",
        "print (x + 1) # 4\n",
        "print (x - 1) # 2\n",
        "x += 1 # x = x + 1\n",
        "# x = 4\n",
        "print (\"--------\")\n",
        "print (x) #4\n",
        "print (x * 2) #8\n",
        "print (x ** 2) #16"
      ],
      "execution_count": null,
      "outputs": []
    },
    {
      "cell_type": "markdown",
      "metadata": {
        "id": "d24exa5IzQRv"
      },
      "source": [
        "### 2. Booleans\n",
        "#### True, False"
      ]
    },
    {
      "cell_type": "code",
      "metadata": {
        "id": "VUEybtLGzTDG"
      },
      "source": [
        "t = True\n",
        "f = False\n",
        "print (type(t))\n",
        "print(\"=\"*30)\n",
        "\n",
        "# and logical operation\n",
        "print (not f) # True\n",
        "print (not t) # False"
      ],
      "execution_count": null,
      "outputs": []
    },
    {
      "cell_type": "markdown",
      "metadata": {
        "id": "5UKS0yuPzyvT"
      },
      "source": [
        "### 3.String"
      ]
    },
    {
      "cell_type": "code",
      "metadata": {
        "id": "29mMh2rFz1rz"
      },
      "source": [
        "# string type\n",
        "hello = 'hello'\n",
        "world = \"world\"\n",
        "print(type(hello)) # class <str>\n",
        "print (hello) # hello\n",
        "\n",
        "# we can access string character using index in Python!\n",
        "print (hello[1]) # e\n",
        "print (hello[0:2]) # he [0:2] => idx 0, idx 1\n",
        "print (hello[:2]) # he\n",
        "print (hello[2:]) # llo idx 2, 3, 4\n",
        "\n",
        "# get length of the string\n",
        "print (len(hello)) # 5\n",
        "\n",
        "# string string concatenation\n",
        "hw = hello + ' ' + world # hello world\n",
        "#hw = hello + world # helloworld\n",
        "\n",
        "# print string with the value of variables together!\n",
        "# %s: str\n",
        "# %d: int, number\n",
        "hw12 = 'option1: %s    %s %d' %(hello, world, 31) # use old school method\n",
        "print(hw12)\n",
        "\n",
        "# this method can be used only >= phthon 3.6\n",
        "hw23 = f'option2: {hello}    {world} {31}' # use the latest method\n",
        "print(hw23)\n",
        "\n",
        "hw45 = 'option3: {}    {} {}'.format(hello, world, 31)\n",
        "print(hw45)\n",
        "\n",
        "# check out some  build-in method in the string class\n",
        "h2 = 'hello'\n",
        "print('used =>capitalize():' + h2.capitalize()) # Hello\n",
        "print('used =>upper():' + h2.upper()) #HELLO\n",
        "print('deeplearning'.upper()) #DEEPLEARNING\n",
        "\n",
        "# replace method\n",
        "# h2 = 'hello'\n",
        "print(h2.replace('l', '(ell)'))"
      ],
      "execution_count": null,
      "outputs": []
    },
    {
      "cell_type": "markdown",
      "metadata": {
        "id": "f1pmzU6y1Of6"
      },
      "source": [
        "### Python Containers: Lists, Dictionaries, Sets, and Tuples\n",
        "#### Lists"
      ]
    },
    {
      "cell_type": "code",
      "metadata": {
        "id": "e0gcii7p1UZ2"
      },
      "source": [
        "# Lists []\n",
        "# e.g., a = [] # empty list\n",
        "#[1,3,4]\n",
        "#['hello', 'world']\n",
        "#[1, 2, 4, 'world', 3.14]\n",
        "\n",
        "# accessing using index of the list\n",
        "xs = [3,1,4]\n",
        "print(xs, xs[2]) #[3,1,4] 4\n",
        "\n",
        "# return the last element of the list\n",
        "print(xs[-1]) # 4\n",
        "\n",
        "# list is mutable -- elements in the list can be changed to the other variables\n",
        "# Also, elements in the lists can have different variable types\n",
        "xs[2] = 'foo'\n",
        "print(xs) # [3, 1, 'foo']\n",
        "\n",
        "# append method\n",
        "xs.append('bar') # adding 'bar' at the end of the list\n",
        "print(xs)\n",
        "\n",
        "# pop\n",
        "x = xs.pop() # get the last element from the list and remove it!\n",
        "print(x)\n",
        "\n",
        "# check out the remain elements in the list\n",
        "print(xs)"
      ],
      "execution_count": null,
      "outputs": []
    },
    {
      "cell_type": "code",
      "metadata": {
        "id": "A7Zcldtk16_u"
      },
      "source": [
        "# creat list using range function\n",
        "nums = list(range(5)) # [0,1,2,3,4]\n",
        "print(nums)\n",
        "\n",
        "# slicing the list\n",
        "print(nums[:3]) # [0,1,2]"
      ],
      "execution_count": null,
      "outputs": []
    },
    {
      "cell_type": "code",
      "metadata": {
        "id": "IxETIMa42C4b"
      },
      "source": [
        "animals = ['cat', 'dog', 'monkey']\n",
        "\n",
        "# Loop using list\n",
        "for animal in animals:\n",
        "  print(animal)"
      ],
      "execution_count": null,
      "outputs": []
    },
    {
      "cell_type": "code",
      "metadata": {
        "id": "ktB6ba5Z2qXQ"
      },
      "source": [
        "animals = ['cat', 'dog', 'monkey']\n",
        "\n",
        "# print out index with the element together!\n",
        "for idx, animal in enumerate(animals):\n",
        "    print('#%d: %s' % (idx + 1, animal))"
      ],
      "execution_count": null,
      "outputs": []
    },
    {
      "cell_type": "code",
      "metadata": {
        "id": "5jn6mA3a3DD3"
      },
      "source": [
        "nums = [0, 1, 2, 3, 4]\n",
        "squares = [] #empty list\n",
        "\n",
        "for x in nums:\n",
        "    print(x)\n",
        "    squares.append(x ** 2) # get exponential of each of the original element in the list\n",
        "\n",
        "print(squares)"
      ],
      "execution_count": null,
      "outputs": []
    },
    {
      "cell_type": "code",
      "metadata": {
        "id": "3GvE_lDD3UxN"
      },
      "source": [
        "nums = [0, 1, 2, 3, 4]\n",
        "even_squares = [x ** 2 for x in nums if x % 2 == 0] # pythonic way..\n",
        "print(even_squares)  # Prints \"[0, 4, 16]\"\n"
      ],
      "execution_count": null,
      "outputs": []
    },
    {
      "cell_type": "markdown",
      "metadata": {
        "id": "QEawiHZc3qWo"
      },
      "source": [
        "#### Dictionary: (key, value)"
      ]
    },
    {
      "cell_type": "code",
      "metadata": {
        "id": "l44TiNjv3vSp"
      },
      "source": [
        "d = {'cat': 'cute', 'dog': 'lovely'} # you can creat a dictionary using {}\n",
        "print(type(d)) # <class dict>\n",
        "\n",
        "a = d['cat']\n",
        "print(a) # printing out the value of the 'cat' => cute\n",
        "print('='*30)\n",
        "\n",
        "# check the specific key in the dictionary\n",
        "print('dog' in d) # True\n",
        "print('skku' in d) # False\n",
        "print('='*30)\n",
        "\n",
        "# Add a new (key,value) to the dict.\n",
        "d['fish'] = 'wet'\n",
        "print(d)"
      ],
      "execution_count": null,
      "outputs": []
    },
    {
      "cell_type": "code",
      "metadata": {
        "id": "ibW2KeKj4G6h"
      },
      "source": [
        "# another dictionarly example\n",
        "d = {'person': 2, 'cat': 4, 'spider': 8}\n",
        "for animal in d:\n",
        "  legs = d[animal] # each animals' value (# of legs)\n",
        "  print('A {} has {} legs'.format(animal, legs))"
      ],
      "execution_count": null,
      "outputs": []
    },
    {
      "cell_type": "code",
      "metadata": {
        "id": "VuYHwzgi4kiQ"
      },
      "source": [
        "nums = [0, 1, 2, 3, 4]\n",
        "even_num_to_square = {x: x ** 2 for x in nums if x % 2 == 0} # pythonic way..\n",
        "\n",
        "print(even_num_to_square)"
      ],
      "execution_count": null,
      "outputs": []
    },
    {
      "cell_type": "markdown",
      "metadata": {
        "id": "I6tJA9-443L0"
      },
      "source": [
        "#### Sets\n"
      ]
    },
    {
      "cell_type": "code",
      "metadata": {
        "id": "xOoHU11U44JY"
      },
      "source": [
        "animals = {'cat', 'dog'} # set is similar as dictionarly, but does not have a value\n",
        "print('cat' in animals)   # Check if an element is in a set; prints \"True\"\n",
        "print('fish' in animals)  # prints \"False\"\n",
        "print('='*30)\n",
        "\n",
        "animals.add('fish')\n",
        "print (animals)\n",
        "print(len(animals))\n",
        "print('='*30)\n",
        "\n",
        "animals.remove('cat')\n",
        "print (animals)"
      ],
      "execution_count": null,
      "outputs": []
    },
    {
      "cell_type": "markdown",
      "metadata": {
        "id": "4DIYfDLT5eyv"
      },
      "source": [
        "#### Tuples\n",
        "##### **Immutable!**\n"
      ]
    },
    {
      "cell_type": "code",
      "source": [
        "mylist = [1, 2, 3]\n",
        "mylist[0] = 999\n",
        "print(mylist)# [999, 2, 3]"
      ],
      "metadata": {
        "id": "sq38-QGwWuXY"
      },
      "execution_count": null,
      "outputs": []
    },
    {
      "cell_type": "code",
      "source": [
        "mytuple = (1, 2, 3)\n",
        "mytuple[0] = 999\n",
        "print(mytuple) #?"
      ],
      "metadata": {
        "id": "DSt9EdfTWy-_"
      },
      "execution_count": null,
      "outputs": []
    },
    {
      "cell_type": "code",
      "metadata": {
        "id": "P5mQ6RnJ5hVI"
      },
      "source": [
        "t = (5,6) # creat a tuple using ()\n",
        "print(type(t))\n",
        "print('='*30)\n",
        "\n",
        "d = {(x, x + 1): x for x in range(10)} # key: (tuple), value: int\n",
        "print(d)\n",
        "print(type(d))\n",
        "print('='*30)\n",
        "\n",
        "print(d[t]) # t = (5,6) => d[5,6] = 5"
      ],
      "execution_count": null,
      "outputs": []
    },
    {
      "cell_type": "markdown",
      "source": [
        "#### Conditionals in Python"
      ],
      "metadata": {
        "id": "D9hFvR15JCmc"
      }
    },
    {
      "cell_type": "code",
      "source": [
        "#Sometimes you want to execute code only in certain circumstances.\n",
        "\n",
        "#Change answer and see what code is executed:\n",
        "answer = 42\n",
        "\n",
        "if answer == 42:\n",
        "    print('This is the answer to the ultimate question')\n",
        "elif answer < 42:\n",
        "    print('This is less than the answer to the ultimate question')\n",
        "else:\n",
        "    print('This is more than the answer to the ultimate question')\n",
        "\n",
        "print('This print statement is run no matter what because it is not indented!')\n",
        "\n",
        "#An if statement is an example of a structure that creates a new block. The block includes all of the code that is\n",
        "#indented. The indentation (tab character) is imperative. Don't forget it!\n",
        "#This is normally just good coding style in other languages, but in python it isn't optional\n",
        "\n",
        "#We can check multiple things at once using boolean operations\n",
        "snowy = True\n",
        "day = \"Monday\"\n",
        "\n",
        "#How long does it take me to get to class in the morning?\n",
        "if (snowy == False) and (day != \"Monday\"):\n",
        "    #and is boolean and. True only if both are true. False otherwise\n",
        "    time = 7\n",
        "elif (snowy == True) and (day == \"Monday\"):\n",
        "    time = 11\n",
        "elif (rainy == True) or (day == \"Monday\"):\n",
        "    time = 9\n",
        "\n",
        "print(\"It takes me %d minutes\" %(time))\n",
        "\n",
        "#You can structure these statements more neatly if you \"nest\" if statements (put an if statement inside an if statement)\n",
        "#But this is just for edification."
      ],
      "metadata": {
        "id": "y1P_YnhOJADy"
      },
      "execution_count": null,
      "outputs": []
    },
    {
      "cell_type": "markdown",
      "metadata": {
        "id": "wTkjkCAq6Dne"
      },
      "source": [
        "### Functions"
      ]
    },
    {
      "cell_type": "code",
      "metadata": {
        "id": "lAHDrtnu5oE9"
      },
      "source": [
        "# we defomed a new function!\n",
        "def sign(x):\n",
        "  if x > 0:\n",
        "    return 'positive'\n",
        "  elif x < 0:\n",
        "    return 'negative'\n",
        "  else:\n",
        "    return 'zero'\n",
        "\n",
        "# test the created function\n",
        "for x in [-1, 0, 1]:\n",
        "  print('{} has a sign {}'.format(x,sign(x)))"
      ],
      "execution_count": null,
      "outputs": []
    },
    {
      "cell_type": "markdown",
      "metadata": {
        "id": "2zCuQ10b6bxf"
      },
      "source": [
        "### Classes"
      ]
    },
    {
      "cell_type": "code",
      "metadata": {
        "id": "CKIPmRIk6fz4"
      },
      "source": [
        "# creat a class\n",
        "class Greeter(object):\n",
        "\n",
        "    # Constructor\n",
        "    def __init__(self, name):\n",
        "        self.name = name  # Create an instance variable\n",
        "\n",
        "    # Instance method\n",
        "    def greet(self, loud=False):\n",
        "        if loud:\n",
        "            print('HELLO, {}!'.format(self.name.upper()))\n",
        "        else:\n",
        "            print('Hello, {}!'.format(self.name))\n",
        "\n",
        "# call the created class\n",
        "g = Greeter('skku')\n",
        "g.greet() # call the greet function in the Gretter class # Hello, kau!\n",
        "g.greet(loud=True) # HELLO, KAU!"
      ],
      "execution_count": null,
      "outputs": []
    },
    {
      "cell_type": "markdown",
      "source": [
        "### Importing in Python: Math and plotting"
      ],
      "metadata": {
        "id": "8NuEN2DQIP7y"
      }
    },
    {
      "cell_type": "code",
      "source": [
        "#Just about every standard math function on a calculator has a python equivalent pre made.\n",
        "#however, they are from the 'math' package in python. Let's add that package!\n",
        "import math\n",
        "\n",
        "float1 = 5.75\n",
        "float2 = 2.25\n",
        "\n",
        "print(math.log(float1))\n",
        "print(math.exp(float2))\n",
        "print(math.pow(2,5))\n",
        "# There is a quicker way to write exponents if you want:\n",
        "print(2.0**5.0)\n",
        "\n",
        "#Like in MATLAB, you can expand the math to entire lists\n",
        "list3 = [1, 2, 3, 4, 5]\n",
        "print(2 * list3) # [1, 2, 3, 4, 5, 1, 2, 3, 4, 5]"
      ],
      "metadata": {
        "id": "4wqf1A_YIZ_z"
      },
      "execution_count": null,
      "outputs": []
    },
    {
      "cell_type": "code",
      "source": [
        "#We can plot easily in Python like in matlab, just import the relevant package!\n",
        "%matplotlib inline\n",
        "import matplotlib.pyplot as plt\n",
        "\n",
        "x_vals = [-2, -1, 0, 1, 2]\n",
        "y_vals = [-4, -2, 0, 2, 4]\n",
        "plt.plot(x_vals, y_vals)"
      ],
      "metadata": {
        "id": "kudjn2A1IsJa"
      },
      "execution_count": null,
      "outputs": []
    },
    {
      "cell_type": "markdown",
      "source": [
        "----------------------------\n",
        "# (About Google Colab Commands): List All Colab Magic Commands"
      ],
      "metadata": {
        "id": "n93Zf1M-DcRb"
      }
    },
    {
      "cell_type": "code",
      "source": [
        "%lsmagic"
      ],
      "metadata": {
        "id": "kK1lVSVbDlXt"
      },
      "execution_count": null,
      "outputs": []
    },
    {
      "cell_type": "markdown",
      "source": [
        "### List Local Directories"
      ],
      "metadata": {
        "id": "pmLH5TTZDqDu"
      }
    },
    {
      "cell_type": "code",
      "source": [
        "%ldir"
      ],
      "metadata": {
        "id": "vsPV5mUKDyTK"
      },
      "execution_count": null,
      "outputs": []
    },
    {
      "cell_type": "code",
      "source": [
        "!ls"
      ],
      "metadata": {
        "id": "0WRAZbRfQv0L"
      },
      "execution_count": null,
      "outputs": []
    },
    {
      "cell_type": "markdown",
      "source": [
        "### CPU Time"
      ],
      "metadata": {
        "id": "G16gHTKbD3-b"
      }
    },
    {
      "cell_type": "code",
      "source": [
        "%time"
      ],
      "metadata": {
        "id": "WRuAuGQhD5sW"
      },
      "execution_count": null,
      "outputs": []
    },
    {
      "cell_type": "markdown",
      "source": [
        "### How long has the system been running?"
      ],
      "metadata": {
        "id": "t8JoLQhfD75A"
      }
    },
    {
      "cell_type": "code",
      "source": [
        "!uptime"
      ],
      "metadata": {
        "id": "Es7wQFAqD-f-"
      },
      "execution_count": null,
      "outputs": []
    },
    {
      "cell_type": "markdown",
      "source": [
        "### Display the CPU specification"
      ],
      "metadata": {
        "id": "kub5Y5BoELRg"
      }
    },
    {
      "cell_type": "code",
      "source": [
        "!lscpu\n",
        "print(\"-\"*70)"
      ],
      "metadata": {
        "id": "akZ2A8VAEihB"
      },
      "execution_count": null,
      "outputs": []
    },
    {
      "cell_type": "markdown",
      "metadata": {
        "id": "6GAAaGaf7Pi8"
      },
      "source": [
        "### How to run terminal (shell) in Google Colab?\n"
      ]
    },
    {
      "cell_type": "code",
      "metadata": {
        "id": "U1ZA4OXCwf8V"
      },
      "source": [
        "!bash"
      ],
      "execution_count": null,
      "outputs": []
    },
    {
      "cell_type": "code",
      "metadata": {
        "id": "ZYajlBpQjYag"
      },
      "source": [
        "!pip install colab-xterm\n",
        "%load_ext colabxterm"
      ],
      "execution_count": null,
      "outputs": []
    },
    {
      "cell_type": "code",
      "source": [
        "%xterm"
      ],
      "metadata": {
        "id": "YaY2NwIK-tX9"
      },
      "execution_count": null,
      "outputs": []
    }
  ]
}