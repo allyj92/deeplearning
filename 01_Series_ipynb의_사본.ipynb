{
  "nbformat": 4,
  "nbformat_minor": 0,
  "metadata": {
    "colab": {
      "provenance": [],
      "toc_visible": true,
      "include_colab_link": true
    },
    "kernelspec": {
      "name": "python3",
      "display_name": "Python 3"
    },
    "language_info": {
      "name": "python"
    }
  },
  "cells": [
    {
      "cell_type": "markdown",
      "metadata": {
        "id": "view-in-github",
        "colab_type": "text"
      },
      "source": [
        "<a href=\"https://colab.research.google.com/github/allyj92/deeplearning/blob/main/01_Series_ipynb%EC%9D%98_%EC%82%AC%EB%B3%B8.ipynb\" target=\"_parent\"><img src=\"https://colab.research.google.com/assets/colab-badge.svg\" alt=\"Open In Colab\"/></a>"
      ]
    },
    {
      "cell_type": "code",
      "execution_count": 1,
      "metadata": {
        "id": "v1YBNZI9WkTy"
      },
      "outputs": [],
      "source": [
        "import numpy as np\n",
        "import pandas as pd\n",
        "\n",
        "# 공식 가이드\n",
        "# https://pandas.pydata.org/pandas-docs/stable/user_guide/10min.html"
      ]
    },
    {
      "cell_type": "code",
      "source": [
        "pd.__version__"
      ],
      "metadata": {
        "colab": {
          "base_uri": "https://localhost:8080/",
          "height": 35
        },
        "id": "ikR0MA1T5dch",
        "outputId": "fe97bec0-9410-4486-f5b8-61c98c3e63f2"
      },
      "execution_count": 2,
      "outputs": [
        {
          "output_type": "execute_result",
          "data": {
            "text/plain": [
              "'2.2.2'"
            ],
            "application/vnd.google.colaboratory.intrinsic+json": {
              "type": "string"
            }
          },
          "metadata": {},
          "execution_count": 2
        }
      ]
    },
    {
      "cell_type": "markdown",
      "source": [
        "# Series\n",
        "\n",
        "- 인덱스(레이블)이 있는 1차원 배열\n",
        "\n",
        "- numpy 배열과 다르게 열 방향이 기본이며 일종의 열벡터로 간주할 수 있음\n",
        "\n"
      ],
      "metadata": {
        "id": "-WfnXshTWt-o"
      }
    },
    {
      "cell_type": "code",
      "source": [
        "# 넘파이 1차원 어레이 , 행과 열\n",
        "a = np.array([1,2,3,4,5,6])\n",
        "a.reshape(-1,1)"
      ],
      "metadata": {
        "id": "0qg9xWTkWs4i",
        "colab": {
          "base_uri": "https://localhost:8080/"
        },
        "outputId": "e2fa3ddc-549a-48c6-90cd-abba04f44328"
      },
      "execution_count": 3,
      "outputs": [
        {
          "output_type": "execute_result",
          "data": {
            "text/plain": [
              "array([[1],\n",
              "       [2],\n",
              "       [3],\n",
              "       [4],\n",
              "       [5],\n",
              "       [6]])"
            ]
          },
          "metadata": {},
          "execution_count": 3
        }
      ]
    },
    {
      "cell_type": "markdown",
      "source": [
        "- 시리즈 만들기"
      ],
      "metadata": {
        "id": "ajNqujmvWzqw"
      }
    },
    {
      "cell_type": "code",
      "source": [
        "# 판다스 시리즈\n",
        "data = pd.Series([1,2,3,4,5,6])\n",
        "data\n",
        "\n",
        "# 넘파이와 다른점은 인덱스가 명시적으로 보인다!![중요]\n",
        "# 자동으로 0부터 시작하는 숫자 인덱스가 만들어짐"
      ],
      "metadata": {
        "id": "UqndVHvuWve9",
        "colab": {
          "base_uri": "https://localhost:8080/",
          "height": 272
        },
        "outputId": "62114a59-0e6f-4ca7-82dd-8ba74ae0db03"
      },
      "execution_count": 4,
      "outputs": [
        {
          "output_type": "execute_result",
          "data": {
            "text/plain": [
              "0    1\n",
              "1    2\n",
              "2    3\n",
              "3    4\n",
              "4    5\n",
              "5    6\n",
              "dtype: int64"
            ],
            "text/html": [
              "<div>\n",
              "<style scoped>\n",
              "    .dataframe tbody tr th:only-of-type {\n",
              "        vertical-align: middle;\n",
              "    }\n",
              "\n",
              "    .dataframe tbody tr th {\n",
              "        vertical-align: top;\n",
              "    }\n",
              "\n",
              "    .dataframe thead th {\n",
              "        text-align: right;\n",
              "    }\n",
              "</style>\n",
              "<table border=\"1\" class=\"dataframe\">\n",
              "  <thead>\n",
              "    <tr style=\"text-align: right;\">\n",
              "      <th></th>\n",
              "      <th>0</th>\n",
              "    </tr>\n",
              "  </thead>\n",
              "  <tbody>\n",
              "    <tr>\n",
              "      <th>0</th>\n",
              "      <td>1</td>\n",
              "    </tr>\n",
              "    <tr>\n",
              "      <th>1</th>\n",
              "      <td>2</td>\n",
              "    </tr>\n",
              "    <tr>\n",
              "      <th>2</th>\n",
              "      <td>3</td>\n",
              "    </tr>\n",
              "    <tr>\n",
              "      <th>3</th>\n",
              "      <td>4</td>\n",
              "    </tr>\n",
              "    <tr>\n",
              "      <th>4</th>\n",
              "      <td>5</td>\n",
              "    </tr>\n",
              "    <tr>\n",
              "      <th>5</th>\n",
              "      <td>6</td>\n",
              "    </tr>\n",
              "  </tbody>\n",
              "</table>\n",
              "</div><br><label><b>dtype:</b> int64</label>"
            ]
          },
          "metadata": {},
          "execution_count": 4
        }
      ]
    },
    {
      "cell_type": "markdown",
      "source": [
        "## index\n",
        "\n",
        "- 데이터를 식별하기 위한 값으로 넘파이 어레이와 다르게 사용자가 직접 지정 할 수 있음"
      ],
      "metadata": {
        "id": "jQxCE-5tW4iE"
      }
    },
    {
      "cell_type": "code",
      "source": [
        "# 인덱스 확인, 인덱스도 객체\n",
        "data.index"
      ],
      "metadata": {
        "id": "y0eYb4CvW027",
        "colab": {
          "base_uri": "https://localhost:8080/"
        },
        "outputId": "1b1b7758-5029-4c86-8e76-6d40955cce49"
      },
      "execution_count": 5,
      "outputs": [
        {
          "output_type": "execute_result",
          "data": {
            "text/plain": [
              "RangeIndex(start=0, stop=6, step=1)"
            ]
          },
          "metadata": {},
          "execution_count": 5
        }
      ]
    },
    {
      "cell_type": "markdown",
      "source": [
        "- 인덱스를 이용하여 값을 조회"
      ],
      "metadata": {
        "id": "vJJrvzRzZiD3"
      }
    },
    {
      "cell_type": "code",
      "source": [
        "data[0], data[5]"
      ],
      "metadata": {
        "id": "YUC5Aq7-ZlFV",
        "colab": {
          "base_uri": "https://localhost:8080/"
        },
        "outputId": "98576a0d-2937-41e0-a221-31ce1fea49c0"
      },
      "execution_count": 7,
      "outputs": [
        {
          "output_type": "execute_result",
          "data": {
            "text/plain": [
              "(1, 6)"
            ]
          },
          "metadata": {},
          "execution_count": 7
        }
      ]
    },
    {
      "cell_type": "markdown",
      "source": [
        "- 직접 인덱스를 지정해서 만들 수 있음"
      ],
      "metadata": {
        "id": "LbKwISfwW_-t"
      }
    },
    {
      "cell_type": "code",
      "source": [
        "# 인덱스를 인위적으로 주고 명시적 인덱스를 만들 수 있다.\n",
        "data = pd.Series([1,2,3,4,5], index = [1,2,3,4,5])\n",
        "data"
      ],
      "metadata": {
        "id": "4Fnml5ZcW9Ec",
        "colab": {
          "base_uri": "https://localhost:8080/",
          "height": 241
        },
        "outputId": "71c0699d-8d4a-457a-e547-a6b2c522e33d"
      },
      "execution_count": 8,
      "outputs": [
        {
          "output_type": "execute_result",
          "data": {
            "text/plain": [
              "1    1\n",
              "2    2\n",
              "3    3\n",
              "4    4\n",
              "5    5\n",
              "dtype: int64"
            ],
            "text/html": [
              "<div>\n",
              "<style scoped>\n",
              "    .dataframe tbody tr th:only-of-type {\n",
              "        vertical-align: middle;\n",
              "    }\n",
              "\n",
              "    .dataframe tbody tr th {\n",
              "        vertical-align: top;\n",
              "    }\n",
              "\n",
              "    .dataframe thead th {\n",
              "        text-align: right;\n",
              "    }\n",
              "</style>\n",
              "<table border=\"1\" class=\"dataframe\">\n",
              "  <thead>\n",
              "    <tr style=\"text-align: right;\">\n",
              "      <th></th>\n",
              "      <th>0</th>\n",
              "    </tr>\n",
              "  </thead>\n",
              "  <tbody>\n",
              "    <tr>\n",
              "      <th>1</th>\n",
              "      <td>1</td>\n",
              "    </tr>\n",
              "    <tr>\n",
              "      <th>2</th>\n",
              "      <td>2</td>\n",
              "    </tr>\n",
              "    <tr>\n",
              "      <th>3</th>\n",
              "      <td>3</td>\n",
              "    </tr>\n",
              "    <tr>\n",
              "      <th>4</th>\n",
              "      <td>4</td>\n",
              "    </tr>\n",
              "    <tr>\n",
              "      <th>5</th>\n",
              "      <td>5</td>\n",
              "    </tr>\n",
              "  </tbody>\n",
              "</table>\n",
              "</div><br><label><b>dtype:</b> int64</label>"
            ]
          },
          "metadata": {},
          "execution_count": 8
        }
      ]
    },
    {
      "cell_type": "markdown",
      "source": [
        "- 데이터를 참조하기 위해 사용하는 인덱스는 기본적으로 중복되는 값이 없어야 하지만 데이터 분석의 특성상 pandas는 인덱스가 중복되는 것을 허용"
      ],
      "metadata": {
        "id": "CZBLOBUpXVBh"
      }
    },
    {
      "cell_type": "code",
      "source": [
        "# 인덱스는 유일해야 한다???\n",
        "\n",
        "data = pd.Series([1,2,3,4,5], index = [1,2,3,4,4])\n",
        "data\n",
        "# 인덱싱하면 값이 두게 나옴\n",
        "data[4]"
      ],
      "metadata": {
        "id": "-wcAzuzLXTsF",
        "colab": {
          "base_uri": "https://localhost:8080/",
          "height": 147
        },
        "outputId": "e0a0c318-4374-42ed-e449-c76f4aa6d7aa"
      },
      "execution_count": 10,
      "outputs": [
        {
          "output_type": "execute_result",
          "data": {
            "text/plain": [
              "4    4\n",
              "4    5\n",
              "dtype: int64"
            ],
            "text/html": [
              "<div>\n",
              "<style scoped>\n",
              "    .dataframe tbody tr th:only-of-type {\n",
              "        vertical-align: middle;\n",
              "    }\n",
              "\n",
              "    .dataframe tbody tr th {\n",
              "        vertical-align: top;\n",
              "    }\n",
              "\n",
              "    .dataframe thead th {\n",
              "        text-align: right;\n",
              "    }\n",
              "</style>\n",
              "<table border=\"1\" class=\"dataframe\">\n",
              "  <thead>\n",
              "    <tr style=\"text-align: right;\">\n",
              "      <th></th>\n",
              "      <th>0</th>\n",
              "    </tr>\n",
              "  </thead>\n",
              "  <tbody>\n",
              "    <tr>\n",
              "      <th>4</th>\n",
              "      <td>4</td>\n",
              "    </tr>\n",
              "    <tr>\n",
              "      <th>4</th>\n",
              "      <td>5</td>\n",
              "    </tr>\n",
              "  </tbody>\n",
              "</table>\n",
              "</div><br><label><b>dtype:</b> int64</label>"
            ]
          },
          "metadata": {},
          "execution_count": 10
        }
      ]
    },
    {
      "cell_type": "markdown",
      "source": [
        "- 다음처럼 인덱스를 문자로도 줄 수 있는데 데이터를 다루는 자료이기 때문에 이것은 자연스러운 기능이라 할 수 있음\n",
        "\n",
        "- 주민등록번호에 그 사람의 신상이 기록된 테이블을 생각해보면 주민등록번호라는 텍스트 정보가 인덱스가 될 수 있다는 것을 쉽게 이해할 수 있음"
      ],
      "metadata": {
        "id": "LmJCzu6kXatS"
      }
    },
    {
      "cell_type": "code",
      "source": [
        "# 인위적으로 인덱스를 바꿀 수 있습니다.\n",
        "data.index = ['a','b','c','d','e']\n",
        "data"
      ],
      "metadata": {
        "id": "tBcFGeOtXXtW",
        "colab": {
          "base_uri": "https://localhost:8080/",
          "height": 241
        },
        "outputId": "9e0cc277-4683-4b7a-eaef-d88493a6bbd2"
      },
      "execution_count": 13,
      "outputs": [
        {
          "output_type": "execute_result",
          "data": {
            "text/plain": [
              "a    1\n",
              "b    2\n",
              "c    3\n",
              "d    4\n",
              "e    5\n",
              "dtype: int64"
            ],
            "text/html": [
              "<div>\n",
              "<style scoped>\n",
              "    .dataframe tbody tr th:only-of-type {\n",
              "        vertical-align: middle;\n",
              "    }\n",
              "\n",
              "    .dataframe tbody tr th {\n",
              "        vertical-align: top;\n",
              "    }\n",
              "\n",
              "    .dataframe thead th {\n",
              "        text-align: right;\n",
              "    }\n",
              "</style>\n",
              "<table border=\"1\" class=\"dataframe\">\n",
              "  <thead>\n",
              "    <tr style=\"text-align: right;\">\n",
              "      <th></th>\n",
              "      <th>0</th>\n",
              "    </tr>\n",
              "  </thead>\n",
              "  <tbody>\n",
              "    <tr>\n",
              "      <th>a</th>\n",
              "      <td>1</td>\n",
              "    </tr>\n",
              "    <tr>\n",
              "      <th>b</th>\n",
              "      <td>2</td>\n",
              "    </tr>\n",
              "    <tr>\n",
              "      <th>c</th>\n",
              "      <td>3</td>\n",
              "    </tr>\n",
              "    <tr>\n",
              "      <th>d</th>\n",
              "      <td>4</td>\n",
              "    </tr>\n",
              "    <tr>\n",
              "      <th>e</th>\n",
              "      <td>5</td>\n",
              "    </tr>\n",
              "  </tbody>\n",
              "</table>\n",
              "</div><br><label><b>dtype:</b> int64</label>"
            ]
          },
          "metadata": {},
          "execution_count": 13
        }
      ]
    },
    {
      "cell_type": "code",
      "source": [
        "# 숫자와 다를게 없는 문자 인덱스\n",
        "data['a'], data['b']"
      ],
      "metadata": {
        "id": "Se8LTNzZXjmS",
        "colab": {
          "base_uri": "https://localhost:8080/"
        },
        "outputId": "1892417d-5f3e-4b4a-ba6d-0157c4222e22"
      },
      "execution_count": 14,
      "outputs": [
        {
          "output_type": "execute_result",
          "data": {
            "text/plain": [
              "(1, 2)"
            ]
          },
          "metadata": {},
          "execution_count": 14
        }
      ]
    },
    {
      "cell_type": "markdown",
      "source": [
        "### 슬라이싱"
      ],
      "metadata": {
        "id": "6lA_rYRSZbYC"
      }
    },
    {
      "cell_type": "code",
      "source": [
        "data1 = pd.Series([1,2,3,4,5])\n",
        "data2 = pd.Series([1,2,3,4,5], index=['a','b','c','d','e'])"
      ],
      "metadata": {
        "id": "Cc-I1grxZeWz"
      },
      "execution_count": 15,
      "outputs": []
    },
    {
      "cell_type": "code",
      "source": [
        "# 숫자 인덱스를 가지는 시리즈의 슬라이싱\n",
        "data1[0:3]"
      ],
      "metadata": {
        "id": "e39AQSn8Z-0i",
        "colab": {
          "base_uri": "https://localhost:8080/",
          "height": 178
        },
        "outputId": "93afbed4-adc8-4dbd-9610-8733a624726d"
      },
      "execution_count": 18,
      "outputs": [
        {
          "output_type": "execute_result",
          "data": {
            "text/plain": [
              "0    1\n",
              "1    2\n",
              "2    3\n",
              "dtype: int64"
            ],
            "text/html": [
              "<div>\n",
              "<style scoped>\n",
              "    .dataframe tbody tr th:only-of-type {\n",
              "        vertical-align: middle;\n",
              "    }\n",
              "\n",
              "    .dataframe tbody tr th {\n",
              "        vertical-align: top;\n",
              "    }\n",
              "\n",
              "    .dataframe thead th {\n",
              "        text-align: right;\n",
              "    }\n",
              "</style>\n",
              "<table border=\"1\" class=\"dataframe\">\n",
              "  <thead>\n",
              "    <tr style=\"text-align: right;\">\n",
              "      <th></th>\n",
              "      <th>0</th>\n",
              "    </tr>\n",
              "  </thead>\n",
              "  <tbody>\n",
              "    <tr>\n",
              "      <th>0</th>\n",
              "      <td>1</td>\n",
              "    </tr>\n",
              "    <tr>\n",
              "      <th>1</th>\n",
              "      <td>2</td>\n",
              "    </tr>\n",
              "    <tr>\n",
              "      <th>2</th>\n",
              "      <td>3</td>\n",
              "    </tr>\n",
              "  </tbody>\n",
              "</table>\n",
              "</div><br><label><b>dtype:</b> int64</label>"
            ]
          },
          "metadata": {},
          "execution_count": 18
        }
      ]
    },
    {
      "cell_type": "code",
      "source": [
        "# 문자 인덱스를 가지는 시리즈의 슬라이싱\n",
        "data2['a':'d']"
      ],
      "metadata": {
        "id": "Qcma5ilqaBbn",
        "colab": {
          "base_uri": "https://localhost:8080/",
          "height": 209
        },
        "outputId": "61e6fd18-0d3d-470e-f073-69d3393b36c0"
      },
      "execution_count": 19,
      "outputs": [
        {
          "output_type": "execute_result",
          "data": {
            "text/plain": [
              "a    1\n",
              "b    2\n",
              "c    3\n",
              "d    4\n",
              "dtype: int64"
            ],
            "text/html": [
              "<div>\n",
              "<style scoped>\n",
              "    .dataframe tbody tr th:only-of-type {\n",
              "        vertical-align: middle;\n",
              "    }\n",
              "\n",
              "    .dataframe tbody tr th {\n",
              "        vertical-align: top;\n",
              "    }\n",
              "\n",
              "    .dataframe thead th {\n",
              "        text-align: right;\n",
              "    }\n",
              "</style>\n",
              "<table border=\"1\" class=\"dataframe\">\n",
              "  <thead>\n",
              "    <tr style=\"text-align: right;\">\n",
              "      <th></th>\n",
              "      <th>0</th>\n",
              "    </tr>\n",
              "  </thead>\n",
              "  <tbody>\n",
              "    <tr>\n",
              "      <th>a</th>\n",
              "      <td>1</td>\n",
              "    </tr>\n",
              "    <tr>\n",
              "      <th>b</th>\n",
              "      <td>2</td>\n",
              "    </tr>\n",
              "    <tr>\n",
              "      <th>c</th>\n",
              "      <td>3</td>\n",
              "    </tr>\n",
              "    <tr>\n",
              "      <th>d</th>\n",
              "      <td>4</td>\n",
              "    </tr>\n",
              "  </tbody>\n",
              "</table>\n",
              "</div><br><label><b>dtype:</b> int64</label>"
            ]
          },
          "metadata": {},
          "execution_count": 19
        }
      ]
    },
    {
      "cell_type": "markdown",
      "source": [
        "### 숫자 인덱스는 사라졌나?\n",
        "\n",
        "- 다음 셀을 실행해보면 명시적으로 보이는 인덱스가 아니더라도 숫자로 인덱싱이 되는 것을 확인 가능"
      ],
      "metadata": {
        "id": "lFiksdkqXpuQ"
      }
    },
    {
      "cell_type": "code",
      "source": [],
      "metadata": {
        "id": "Kc8DO0BNXkiT"
      },
      "execution_count": null,
      "outputs": []
    },
    {
      "cell_type": "code",
      "source": [
        "# 문자 인덱스를 가지는 시리즈에 대하 숫자 슬라이싱\n",
        "data2[0:3]\n"
      ],
      "metadata": {
        "id": "0odhfKnuaQ4S",
        "colab": {
          "base_uri": "https://localhost:8080/",
          "height": 178
        },
        "outputId": "975da050-6bca-454c-9993-e1f4939b3c21"
      },
      "execution_count": 20,
      "outputs": [
        {
          "output_type": "execute_result",
          "data": {
            "text/plain": [
              "a    1\n",
              "b    2\n",
              "c    3\n",
              "dtype: int64"
            ],
            "text/html": [
              "<div>\n",
              "<style scoped>\n",
              "    .dataframe tbody tr th:only-of-type {\n",
              "        vertical-align: middle;\n",
              "    }\n",
              "\n",
              "    .dataframe tbody tr th {\n",
              "        vertical-align: top;\n",
              "    }\n",
              "\n",
              "    .dataframe thead th {\n",
              "        text-align: right;\n",
              "    }\n",
              "</style>\n",
              "<table border=\"1\" class=\"dataframe\">\n",
              "  <thead>\n",
              "    <tr style=\"text-align: right;\">\n",
              "      <th></th>\n",
              "      <th>0</th>\n",
              "    </tr>\n",
              "  </thead>\n",
              "  <tbody>\n",
              "    <tr>\n",
              "      <th>a</th>\n",
              "      <td>1</td>\n",
              "    </tr>\n",
              "    <tr>\n",
              "      <th>b</th>\n",
              "      <td>2</td>\n",
              "    </tr>\n",
              "    <tr>\n",
              "      <th>c</th>\n",
              "      <td>3</td>\n",
              "    </tr>\n",
              "  </tbody>\n",
              "</table>\n",
              "</div><br><label><b>dtype:</b> int64</label>"
            ]
          },
          "metadata": {},
          "execution_count": 20
        }
      ]
    },
    {
      "cell_type": "markdown",
      "source": [
        "### 연습\n",
        "\n",
        "- 인덱스와 값을 다음처럼 가지는 시리즈 만들어보기\n",
        "    - 인덱스: 2024-04-01, 2024-04-02, 2024-04-03\n",
        "    - 값: 100, 200, 300"
      ],
      "metadata": {
        "id": "2k3PFeR4X1Iw"
      }
    },
    {
      "cell_type": "code",
      "source": [
        "value = [100,200,300]\n",
        "data3 = pd.Series(data = value, index=['2024-04-01','2024-04-02','2024-04-03'])\n",
        "\n",
        "data3"
      ],
      "metadata": {
        "id": "l5wCpjjUXztz",
        "colab": {
          "base_uri": "https://localhost:8080/",
          "height": 178
        },
        "outputId": "0ebab2b4-d30d-478f-8520-1ca18c1c7865"
      },
      "execution_count": 23,
      "outputs": [
        {
          "output_type": "execute_result",
          "data": {
            "text/plain": [
              "2024-04-01    100\n",
              "2024-04-02    200\n",
              "2024-04-03    300\n",
              "dtype: int64"
            ],
            "text/html": [
              "<div>\n",
              "<style scoped>\n",
              "    .dataframe tbody tr th:only-of-type {\n",
              "        vertical-align: middle;\n",
              "    }\n",
              "\n",
              "    .dataframe tbody tr th {\n",
              "        vertical-align: top;\n",
              "    }\n",
              "\n",
              "    .dataframe thead th {\n",
              "        text-align: right;\n",
              "    }\n",
              "</style>\n",
              "<table border=\"1\" class=\"dataframe\">\n",
              "  <thead>\n",
              "    <tr style=\"text-align: right;\">\n",
              "      <th></th>\n",
              "      <th>0</th>\n",
              "    </tr>\n",
              "  </thead>\n",
              "  <tbody>\n",
              "    <tr>\n",
              "      <th>2024-04-01</th>\n",
              "      <td>100</td>\n",
              "    </tr>\n",
              "    <tr>\n",
              "      <th>2024-04-02</th>\n",
              "      <td>200</td>\n",
              "    </tr>\n",
              "    <tr>\n",
              "      <th>2024-04-03</th>\n",
              "      <td>300</td>\n",
              "    </tr>\n",
              "  </tbody>\n",
              "</table>\n",
              "</div><br><label><b>dtype:</b> int64</label>"
            ]
          },
          "metadata": {},
          "execution_count": 23
        }
      ]
    },
    {
      "cell_type": "code",
      "source": [
        "data3['2024-04-01'],data3[0]"
      ],
      "metadata": {
        "colab": {
          "base_uri": "https://localhost:8080/"
        },
        "id": "5URoRoA7AXEE",
        "outputId": "fcd24fa8-b8bd-4f96-b457-c720290ab2ae"
      },
      "execution_count": 25,
      "outputs": [
        {
          "output_type": "stream",
          "name": "stderr",
          "text": [
            "<ipython-input-25-773d56d622a0>:1: FutureWarning: Series.__getitem__ treating keys as positions is deprecated. In a future version, integer keys will always be treated as labels (consistent with DataFrame behavior). To access a value by position, use `ser.iloc[pos]`\n",
            "  data3['2024-04-01'],data3[0]\n"
          ]
        },
        {
          "output_type": "execute_result",
          "data": {
            "text/plain": [
              "(100, 100)"
            ]
          },
          "metadata": {},
          "execution_count": 25
        }
      ]
    },
    {
      "cell_type": "code",
      "source": [],
      "metadata": {
        "id": "Xw2BtYn1AiCV"
      },
      "execution_count": null,
      "outputs": []
    },
    {
      "cell_type": "markdown",
      "source": [
        "### 명시적 인덱스? 암시적 인덱스?\n",
        "\n",
        "- 좀 전에 확인한것 처럼 문자로 인덱스를 부여한 시리즈에 숫자로 인덱싱을 할 수 있었습니다.\n",
        "\n",
        "- 명시적으로 인덱스를 지정한 경우 이 인덱스를 명시적 인덱스 또는 레이블이라 하고 지정하지 않아도 숫자로 동작하는 인덱스를 암시적 인덱스 또는 그냥 인덱스라고 합니다.\n",
        "\n",
        "- 다음은 명시적 인덱스를 숫자로 지정한 경우입니다."
      ],
      "metadata": {
        "id": "GJ1HKbVIYsOm"
      }
    },
    {
      "cell_type": "code",
      "source": [
        "data = pd.Series([1,2,3,4,5], index=[1,2,3,4,5])\n",
        "data[1]"
      ],
      "metadata": {
        "id": "JBZ84bfZYbkz",
        "colab": {
          "base_uri": "https://localhost:8080/"
        },
        "outputId": "4cbd0488-a562-4df0-f1b9-1d716a99228f"
      },
      "execution_count": 26,
      "outputs": [
        {
          "output_type": "execute_result",
          "data": {
            "text/plain": [
              "1"
            ]
          },
          "metadata": {},
          "execution_count": 26
        }
      ]
    },
    {
      "cell_type": "markdown",
      "source": [
        "- 이렇게 숫자로 명시적 인덱스(또는 레이블)를 지정하면 암시적인 인덱스를 사용해서 인덱싱할 수 없습니다!!\n",
        "\n",
        "- 조금 이상한 경우지만 이 경우 똑같은 숫자가 경우에 따라 두가지 인덱로 작동할 수는 없다는 것을 알 수 있습니다."
      ],
      "metadata": {
        "id": "ImvoPPnLY0ll"
      }
    },
    {
      "cell_type": "code",
      "source": [
        "# 인덱싱은 명시적 인덱스를 사용한다.\n",
        "# data[1]은 명시적 인덱스에서 1인가 암시적 인덱스에서 1인가?\n"
      ],
      "metadata": {
        "id": "a0VKdsulYwOq"
      },
      "execution_count": null,
      "outputs": []
    },
    {
      "cell_type": "code",
      "source": [
        "# 다음은 에러를 냅니다.\n",
        "# 숫자로 인덱스를 주면 눈에 보이는(명시적) 인덱스를 조회하기 때문에\n",
        "# 에러가 남\n",
        "data[0]"
      ],
      "metadata": {
        "id": "MhMBGut-Y2Yp",
        "colab": {
          "base_uri": "https://localhost:8080/",
          "height": 572
        },
        "outputId": "6c7d9e6b-8783-42bc-e34d-d8a59962a4d8"
      },
      "execution_count": 27,
      "outputs": [
        {
          "output_type": "error",
          "ename": "KeyError",
          "evalue": "0",
          "traceback": [
            "\u001b[0;31m---------------------------------------------------------------------------\u001b[0m",
            "\u001b[0;31mKeyError\u001b[0m                                  Traceback (most recent call last)",
            "\u001b[0;32m/usr/local/lib/python3.10/dist-packages/pandas/core/indexes/base.py\u001b[0m in \u001b[0;36mget_loc\u001b[0;34m(self, key)\u001b[0m\n\u001b[1;32m   3804\u001b[0m         \u001b[0;32mtry\u001b[0m\u001b[0;34m:\u001b[0m\u001b[0;34m\u001b[0m\u001b[0;34m\u001b[0m\u001b[0m\n\u001b[0;32m-> 3805\u001b[0;31m             \u001b[0;32mreturn\u001b[0m \u001b[0mself\u001b[0m\u001b[0;34m.\u001b[0m\u001b[0m_engine\u001b[0m\u001b[0;34m.\u001b[0m\u001b[0mget_loc\u001b[0m\u001b[0;34m(\u001b[0m\u001b[0mcasted_key\u001b[0m\u001b[0;34m)\u001b[0m\u001b[0;34m\u001b[0m\u001b[0;34m\u001b[0m\u001b[0m\n\u001b[0m\u001b[1;32m   3806\u001b[0m         \u001b[0;32mexcept\u001b[0m \u001b[0mKeyError\u001b[0m \u001b[0;32mas\u001b[0m \u001b[0merr\u001b[0m\u001b[0;34m:\u001b[0m\u001b[0;34m\u001b[0m\u001b[0;34m\u001b[0m\u001b[0m\n",
            "\u001b[0;32mindex.pyx\u001b[0m in \u001b[0;36mpandas._libs.index.IndexEngine.get_loc\u001b[0;34m()\u001b[0m\n",
            "\u001b[0;32mindex.pyx\u001b[0m in \u001b[0;36mpandas._libs.index.IndexEngine.get_loc\u001b[0;34m()\u001b[0m\n",
            "\u001b[0;32mpandas/_libs/hashtable_class_helper.pxi\u001b[0m in \u001b[0;36mpandas._libs.hashtable.Int64HashTable.get_item\u001b[0;34m()\u001b[0m\n",
            "\u001b[0;32mpandas/_libs/hashtable_class_helper.pxi\u001b[0m in \u001b[0;36mpandas._libs.hashtable.Int64HashTable.get_item\u001b[0;34m()\u001b[0m\n",
            "\u001b[0;31mKeyError\u001b[0m: 0",
            "\nThe above exception was the direct cause of the following exception:\n",
            "\u001b[0;31mKeyError\u001b[0m                                  Traceback (most recent call last)",
            "\u001b[0;32m<ipython-input-27-4b12729ac041>\u001b[0m in \u001b[0;36m<cell line: 4>\u001b[0;34m()\u001b[0m\n\u001b[1;32m      2\u001b[0m \u001b[0;31m# 숫자로 인덱스를 주면 눈에 보이는(명시적) 인덱스를 조회하기 때문에\u001b[0m\u001b[0;34m\u001b[0m\u001b[0;34m\u001b[0m\u001b[0m\n\u001b[1;32m      3\u001b[0m \u001b[0;31m# 에러가 남\u001b[0m\u001b[0;34m\u001b[0m\u001b[0;34m\u001b[0m\u001b[0m\n\u001b[0;32m----> 4\u001b[0;31m \u001b[0mdata\u001b[0m\u001b[0;34m[\u001b[0m\u001b[0;36m0\u001b[0m\u001b[0;34m]\u001b[0m\u001b[0;34m\u001b[0m\u001b[0;34m\u001b[0m\u001b[0m\n\u001b[0m",
            "\u001b[0;32m/usr/local/lib/python3.10/dist-packages/pandas/core/series.py\u001b[0m in \u001b[0;36m__getitem__\u001b[0;34m(self, key)\u001b[0m\n\u001b[1;32m   1119\u001b[0m \u001b[0;34m\u001b[0m\u001b[0m\n\u001b[1;32m   1120\u001b[0m         \u001b[0;32melif\u001b[0m \u001b[0mkey_is_scalar\u001b[0m\u001b[0;34m:\u001b[0m\u001b[0;34m\u001b[0m\u001b[0;34m\u001b[0m\u001b[0m\n\u001b[0;32m-> 1121\u001b[0;31m             \u001b[0;32mreturn\u001b[0m \u001b[0mself\u001b[0m\u001b[0;34m.\u001b[0m\u001b[0m_get_value\u001b[0m\u001b[0;34m(\u001b[0m\u001b[0mkey\u001b[0m\u001b[0;34m)\u001b[0m\u001b[0;34m\u001b[0m\u001b[0;34m\u001b[0m\u001b[0m\n\u001b[0m\u001b[1;32m   1122\u001b[0m \u001b[0;34m\u001b[0m\u001b[0m\n\u001b[1;32m   1123\u001b[0m         \u001b[0;31m# Convert generator to list before going through hashable part\u001b[0m\u001b[0;34m\u001b[0m\u001b[0;34m\u001b[0m\u001b[0m\n",
            "\u001b[0;32m/usr/local/lib/python3.10/dist-packages/pandas/core/series.py\u001b[0m in \u001b[0;36m_get_value\u001b[0;34m(self, label, takeable)\u001b[0m\n\u001b[1;32m   1235\u001b[0m \u001b[0;34m\u001b[0m\u001b[0m\n\u001b[1;32m   1236\u001b[0m         \u001b[0;31m# Similar to Index.get_value, but we do not fall back to positional\u001b[0m\u001b[0;34m\u001b[0m\u001b[0;34m\u001b[0m\u001b[0m\n\u001b[0;32m-> 1237\u001b[0;31m         \u001b[0mloc\u001b[0m \u001b[0;34m=\u001b[0m \u001b[0mself\u001b[0m\u001b[0;34m.\u001b[0m\u001b[0mindex\u001b[0m\u001b[0;34m.\u001b[0m\u001b[0mget_loc\u001b[0m\u001b[0;34m(\u001b[0m\u001b[0mlabel\u001b[0m\u001b[0;34m)\u001b[0m\u001b[0;34m\u001b[0m\u001b[0;34m\u001b[0m\u001b[0m\n\u001b[0m\u001b[1;32m   1238\u001b[0m \u001b[0;34m\u001b[0m\u001b[0m\n\u001b[1;32m   1239\u001b[0m         \u001b[0;32mif\u001b[0m \u001b[0mis_integer\u001b[0m\u001b[0;34m(\u001b[0m\u001b[0mloc\u001b[0m\u001b[0;34m)\u001b[0m\u001b[0;34m:\u001b[0m\u001b[0;34m\u001b[0m\u001b[0;34m\u001b[0m\u001b[0m\n",
            "\u001b[0;32m/usr/local/lib/python3.10/dist-packages/pandas/core/indexes/base.py\u001b[0m in \u001b[0;36mget_loc\u001b[0;34m(self, key)\u001b[0m\n\u001b[1;32m   3810\u001b[0m             ):\n\u001b[1;32m   3811\u001b[0m                 \u001b[0;32mraise\u001b[0m \u001b[0mInvalidIndexError\u001b[0m\u001b[0;34m(\u001b[0m\u001b[0mkey\u001b[0m\u001b[0;34m)\u001b[0m\u001b[0;34m\u001b[0m\u001b[0;34m\u001b[0m\u001b[0m\n\u001b[0;32m-> 3812\u001b[0;31m             \u001b[0;32mraise\u001b[0m \u001b[0mKeyError\u001b[0m\u001b[0;34m(\u001b[0m\u001b[0mkey\u001b[0m\u001b[0;34m)\u001b[0m \u001b[0;32mfrom\u001b[0m \u001b[0merr\u001b[0m\u001b[0;34m\u001b[0m\u001b[0;34m\u001b[0m\u001b[0m\n\u001b[0m\u001b[1;32m   3813\u001b[0m         \u001b[0;32mexcept\u001b[0m \u001b[0mTypeError\u001b[0m\u001b[0;34m:\u001b[0m\u001b[0;34m\u001b[0m\u001b[0;34m\u001b[0m\u001b[0m\n\u001b[1;32m   3814\u001b[0m             \u001b[0;31m# If we have a listlike key, _check_indexing_error will raise\u001b[0m\u001b[0;34m\u001b[0m\u001b[0;34m\u001b[0m\u001b[0m\n",
            "\u001b[0;31mKeyError\u001b[0m: 0"
          ]
        }
      ]
    },
    {
      "cell_type": "markdown",
      "source": [
        "- 하지만 이 경우 슬라이싱을 해보면?"
      ],
      "metadata": {
        "id": "L1WnsZbfbAjV"
      }
    },
    {
      "cell_type": "code",
      "source": [
        "data[0:2]"
      ],
      "metadata": {
        "id": "GFj19MkLY9Sh",
        "colab": {
          "base_uri": "https://localhost:8080/",
          "height": 147
        },
        "outputId": "a98132ef-c462-450e-8217-a8c52acfdc0e"
      },
      "execution_count": 28,
      "outputs": [
        {
          "output_type": "execute_result",
          "data": {
            "text/plain": [
              "1    1\n",
              "2    2\n",
              "dtype: int64"
            ],
            "text/html": [
              "<div>\n",
              "<style scoped>\n",
              "    .dataframe tbody tr th:only-of-type {\n",
              "        vertical-align: middle;\n",
              "    }\n",
              "\n",
              "    .dataframe tbody tr th {\n",
              "        vertical-align: top;\n",
              "    }\n",
              "\n",
              "    .dataframe thead th {\n",
              "        text-align: right;\n",
              "    }\n",
              "</style>\n",
              "<table border=\"1\" class=\"dataframe\">\n",
              "  <thead>\n",
              "    <tr style=\"text-align: right;\">\n",
              "      <th></th>\n",
              "      <th>0</th>\n",
              "    </tr>\n",
              "  </thead>\n",
              "  <tbody>\n",
              "    <tr>\n",
              "      <th>1</th>\n",
              "      <td>1</td>\n",
              "    </tr>\n",
              "    <tr>\n",
              "      <th>2</th>\n",
              "      <td>2</td>\n",
              "    </tr>\n",
              "  </tbody>\n",
              "</table>\n",
              "</div><br><label><b>dtype:</b> int64</label>"
            ]
          },
          "metadata": {},
          "execution_count": 28
        }
      ]
    },
    {
      "cell_type": "code",
      "source": [
        "data[1:3]"
      ],
      "metadata": {
        "colab": {
          "base_uri": "https://localhost:8080/",
          "height": 147
        },
        "id": "9xQ_XPZeGwP7",
        "outputId": "a5c9a9ab-53ca-4cef-956a-02bdaec1d586"
      },
      "execution_count": 29,
      "outputs": [
        {
          "output_type": "execute_result",
          "data": {
            "text/plain": [
              "2    2\n",
              "3    3\n",
              "dtype: int64"
            ],
            "text/html": [
              "<div>\n",
              "<style scoped>\n",
              "    .dataframe tbody tr th:only-of-type {\n",
              "        vertical-align: middle;\n",
              "    }\n",
              "\n",
              "    .dataframe tbody tr th {\n",
              "        vertical-align: top;\n",
              "    }\n",
              "\n",
              "    .dataframe thead th {\n",
              "        text-align: right;\n",
              "    }\n",
              "</style>\n",
              "<table border=\"1\" class=\"dataframe\">\n",
              "  <thead>\n",
              "    <tr style=\"text-align: right;\">\n",
              "      <th></th>\n",
              "      <th>0</th>\n",
              "    </tr>\n",
              "  </thead>\n",
              "  <tbody>\n",
              "    <tr>\n",
              "      <th>2</th>\n",
              "      <td>2</td>\n",
              "    </tr>\n",
              "    <tr>\n",
              "      <th>3</th>\n",
              "      <td>3</td>\n",
              "    </tr>\n",
              "  </tbody>\n",
              "</table>\n",
              "</div><br><label><b>dtype:</b> int64</label>"
            ]
          },
          "metadata": {},
          "execution_count": 29
        }
      ]
    },
    {
      "cell_type": "markdown",
      "source": [
        "### 연습\n",
        "\n",
        "- 다음 만들어진 세 시리즈에 대해서 주어진 인덱싱과 슬라이싱을 수행하시오."
      ],
      "metadata": {
        "id": "4yJpTe23dQac"
      }
    },
    {
      "cell_type": "code",
      "source": [
        "s_basic = pd.Series(data=range(10))\n",
        "s_number = pd.Series(data=range(10), index=range(1,11))\n",
        "s_char = pd.Series(data=range(10), index=[f\"idx_{str(i)}\" for i in range(1, 11)])"
      ],
      "metadata": {
        "id": "5RTTxG2WbOoN"
      },
      "execution_count": 30,
      "outputs": []
    },
    {
      "cell_type": "code",
      "source": [
        "print(s_basic)\n",
        "\n",
        "# 1. 값 5를 조회하시오.\n",
        "\n",
        "s_basic[5]\n",
        "# 2. 값 4에서 7을 가져오시오.\n",
        "s_basic[4:8]"
      ],
      "metadata": {
        "id": "gPfRE7T1cWsz",
        "colab": {
          "base_uri": "https://localhost:8080/",
          "height": 410
        },
        "outputId": "3efc9956-4d61-4b95-da84-08fe019845f7"
      },
      "execution_count": 32,
      "outputs": [
        {
          "output_type": "stream",
          "name": "stdout",
          "text": [
            "0    0\n",
            "1    1\n",
            "2    2\n",
            "3    3\n",
            "4    4\n",
            "5    5\n",
            "6    6\n",
            "7    7\n",
            "8    8\n",
            "9    9\n",
            "dtype: int64\n"
          ]
        },
        {
          "output_type": "execute_result",
          "data": {
            "text/plain": [
              "4    4\n",
              "5    5\n",
              "6    6\n",
              "7    7\n",
              "dtype: int64"
            ],
            "text/html": [
              "<div>\n",
              "<style scoped>\n",
              "    .dataframe tbody tr th:only-of-type {\n",
              "        vertical-align: middle;\n",
              "    }\n",
              "\n",
              "    .dataframe tbody tr th {\n",
              "        vertical-align: top;\n",
              "    }\n",
              "\n",
              "    .dataframe thead th {\n",
              "        text-align: right;\n",
              "    }\n",
              "</style>\n",
              "<table border=\"1\" class=\"dataframe\">\n",
              "  <thead>\n",
              "    <tr style=\"text-align: right;\">\n",
              "      <th></th>\n",
              "      <th>0</th>\n",
              "    </tr>\n",
              "  </thead>\n",
              "  <tbody>\n",
              "    <tr>\n",
              "      <th>4</th>\n",
              "      <td>4</td>\n",
              "    </tr>\n",
              "    <tr>\n",
              "      <th>5</th>\n",
              "      <td>5</td>\n",
              "    </tr>\n",
              "    <tr>\n",
              "      <th>6</th>\n",
              "      <td>6</td>\n",
              "    </tr>\n",
              "    <tr>\n",
              "      <th>7</th>\n",
              "      <td>7</td>\n",
              "    </tr>\n",
              "  </tbody>\n",
              "</table>\n",
              "</div><br><label><b>dtype:</b> int64</label>"
            ]
          },
          "metadata": {},
          "execution_count": 32
        }
      ]
    },
    {
      "cell_type": "code",
      "source": [
        "print(s_number)\n",
        "\n",
        "# 1. 값 5를 조회하시오.\n",
        "\n",
        "s_number[6]\n",
        "# 2. 값 4에서 7을 가져오시오.\n",
        "s_number[4:8]"
      ],
      "metadata": {
        "id": "LRyp8hNTcBl3",
        "colab": {
          "base_uri": "https://localhost:8080/",
          "height": 410
        },
        "outputId": "d39e4de6-8254-46e9-de82-1e24c0dfcde9"
      },
      "execution_count": 36,
      "outputs": [
        {
          "output_type": "stream",
          "name": "stdout",
          "text": [
            "1     0\n",
            "2     1\n",
            "3     2\n",
            "4     3\n",
            "5     4\n",
            "6     5\n",
            "7     6\n",
            "8     7\n",
            "9     8\n",
            "10    9\n",
            "dtype: int64\n"
          ]
        },
        {
          "output_type": "execute_result",
          "data": {
            "text/plain": [
              "5    4\n",
              "6    5\n",
              "7    6\n",
              "8    7\n",
              "dtype: int64"
            ],
            "text/html": [
              "<div>\n",
              "<style scoped>\n",
              "    .dataframe tbody tr th:only-of-type {\n",
              "        vertical-align: middle;\n",
              "    }\n",
              "\n",
              "    .dataframe tbody tr th {\n",
              "        vertical-align: top;\n",
              "    }\n",
              "\n",
              "    .dataframe thead th {\n",
              "        text-align: right;\n",
              "    }\n",
              "</style>\n",
              "<table border=\"1\" class=\"dataframe\">\n",
              "  <thead>\n",
              "    <tr style=\"text-align: right;\">\n",
              "      <th></th>\n",
              "      <th>0</th>\n",
              "    </tr>\n",
              "  </thead>\n",
              "  <tbody>\n",
              "    <tr>\n",
              "      <th>5</th>\n",
              "      <td>4</td>\n",
              "    </tr>\n",
              "    <tr>\n",
              "      <th>6</th>\n",
              "      <td>5</td>\n",
              "    </tr>\n",
              "    <tr>\n",
              "      <th>7</th>\n",
              "      <td>6</td>\n",
              "    </tr>\n",
              "    <tr>\n",
              "      <th>8</th>\n",
              "      <td>7</td>\n",
              "    </tr>\n",
              "  </tbody>\n",
              "</table>\n",
              "</div><br><label><b>dtype:</b> int64</label>"
            ]
          },
          "metadata": {},
          "execution_count": 36
        }
      ]
    },
    {
      "cell_type": "code",
      "source": [
        "print(s_char)\n",
        "\n",
        "# 1. 값 5를 숫자 인덱스, 문자 인덱스를 써서 조회하시오.\n",
        "s_char['idx_6']\n",
        "\n",
        "# 2. 값 4에서 7을 숫자 인덱스, 문자 인덱스를 써서 가져오시오.\n",
        "s_char['idx_5':'idx_8']"
      ],
      "metadata": {
        "id": "3gRVwuHocOwn",
        "colab": {
          "base_uri": "https://localhost:8080/",
          "height": 410
        },
        "outputId": "566ba3b0-e6ab-4a16-da58-bbf97543fe9e"
      },
      "execution_count": 41,
      "outputs": [
        {
          "output_type": "stream",
          "name": "stdout",
          "text": [
            "idx_1     0\n",
            "idx_2     1\n",
            "idx_3     2\n",
            "idx_4     3\n",
            "idx_5     4\n",
            "idx_6     5\n",
            "idx_7     6\n",
            "idx_8     7\n",
            "idx_9     8\n",
            "idx_10    9\n",
            "dtype: int64\n"
          ]
        },
        {
          "output_type": "execute_result",
          "data": {
            "text/plain": [
              "idx_5    4\n",
              "idx_6    5\n",
              "idx_7    6\n",
              "idx_8    7\n",
              "dtype: int64"
            ],
            "text/html": [
              "<div>\n",
              "<style scoped>\n",
              "    .dataframe tbody tr th:only-of-type {\n",
              "        vertical-align: middle;\n",
              "    }\n",
              "\n",
              "    .dataframe tbody tr th {\n",
              "        vertical-align: top;\n",
              "    }\n",
              "\n",
              "    .dataframe thead th {\n",
              "        text-align: right;\n",
              "    }\n",
              "</style>\n",
              "<table border=\"1\" class=\"dataframe\">\n",
              "  <thead>\n",
              "    <tr style=\"text-align: right;\">\n",
              "      <th></th>\n",
              "      <th>0</th>\n",
              "    </tr>\n",
              "  </thead>\n",
              "  <tbody>\n",
              "    <tr>\n",
              "      <th>idx_5</th>\n",
              "      <td>4</td>\n",
              "    </tr>\n",
              "    <tr>\n",
              "      <th>idx_6</th>\n",
              "      <td>5</td>\n",
              "    </tr>\n",
              "    <tr>\n",
              "      <th>idx_7</th>\n",
              "      <td>6</td>\n",
              "    </tr>\n",
              "    <tr>\n",
              "      <th>idx_8</th>\n",
              "      <td>7</td>\n",
              "    </tr>\n",
              "  </tbody>\n",
              "</table>\n",
              "</div><br><label><b>dtype:</b> int64</label>"
            ]
          },
          "metadata": {},
          "execution_count": 41
        }
      ]
    },
    {
      "cell_type": "markdown",
      "source": [
        "## Data Type\n",
        "\n",
        "- 시리즈를 만들 때 데이터 타입을 지정할 수 있습니다.\n",
        "\n",
        "-  np.int16, np.int32, np.int64, np.float16, np.float32, np.float64 처럼 numpy형식으로 지정할 수 도 있고 float, int로 지정할 수도 있습니다.\n",
        "\n",
        "- 올바른 데이터 형식을 지정하면 동일한 데이터를 저장하더라도 메모리를 아낄 수 있습니다."
      ],
      "metadata": {
        "id": "IEWw-KVqdfuP"
      }
    },
    {
      "cell_type": "code",
      "source": [
        "# 데이터 타입 지정\n"
      ],
      "metadata": {
        "id": "IFD-t8vtcPoK"
      },
      "execution_count": null,
      "outputs": []
    },
    {
      "cell_type": "code",
      "source": [
        "# np.int16으로 변환\n"
      ],
      "metadata": {
        "id": "qA01JTxJdkjC"
      },
      "execution_count": null,
      "outputs": []
    },
    {
      "cell_type": "markdown",
      "source": [
        "### 연습\n",
        "\n",
        "- 다음 조건으로 시리즈를 만들어 보세요.\n",
        "```\n",
        "    - index: a, b, c, d\n",
        "    - value: 100, 200, 300, 400\n",
        "    - dtype: np.int32\n",
        "```"
      ],
      "metadata": {
        "id": "F_IfUEpkdq64"
      }
    },
    {
      "cell_type": "code",
      "source": [
        "test_s =\n"
      ],
      "metadata": {
        "id": "c659hh22dlc9"
      },
      "execution_count": null,
      "outputs": []
    },
    {
      "cell_type": "markdown",
      "source": [
        "- `test_s` 시리즈에 다음과 같은 결과를 숫자 인덱스를 사용해서 수행하세요.\n",
        "\n",
        "```\n",
        "# 문자 인덱스 사용\n",
        "b    200\n",
        "c    300\n",
        "dtype: int32\n",
        "\n",
        "b    200\n",
        "c    300\n",
        "d    400\n",
        "dtype: int32\n",
        "\n",
        "# 숫자 인덱스 사용\n",
        "b    200\n",
        "c    300\n",
        "dtype: int32\n",
        "\n",
        "b    200\n",
        "c    300\n",
        "d    400\n",
        "dtype: int32\n",
        "```"
      ],
      "metadata": {
        "id": "gFhSsX60eHZx"
      }
    },
    {
      "cell_type": "code",
      "source": [
        "# 문자인 명시적 인덱스를 이용한 슬라이스\n",
        "\n",
        "# 숫자인 암시적 인덱스를 이용한 슬라이스\n"
      ],
      "metadata": {
        "id": "2wwsRW6wduiZ"
      },
      "execution_count": null,
      "outputs": []
    },
    {
      "cell_type": "markdown",
      "source": [
        "## 정렬된 사전으로써 Series\n",
        "\n",
        "- 사전으로 부터 시리즈를 만들 수 있습니다. 사전은 정렬되지 않지만 시리즈는 값 또는 인덱스로 정렬할 수 있습니다.\n",
        "\n",
        "- 사전의 키는 인덱스가 되고 벨류는 값이 되는 식으로 만들어 집니다."
      ],
      "metadata": {
        "id": "tHvLbiubeeSi"
      }
    },
    {
      "cell_type": "code",
      "source": [
        "# 사전을 시리즈에 전달하면 키가 인덱스 벨류가 값이 되는 시리즈가 생성\n",
        "population_dict = {'seoul':9741383, 'busan':3416918,\n",
        "                   'daegu':2453041, 'inchon':2925967}\n",
        "pop =\n",
        "pop"
      ],
      "metadata": {
        "id": "Pj-iDgaJeSgs"
      },
      "execution_count": null,
      "outputs": []
    },
    {
      "cell_type": "code",
      "source": [
        "# 명시적 인덱싱\n"
      ],
      "metadata": {
        "id": "RE-jiMtoeiHc"
      },
      "execution_count": null,
      "outputs": []
    },
    {
      "cell_type": "code",
      "source": [
        "# 암시적 인덱싱\n"
      ],
      "metadata": {
        "id": "jm3BOziRej1R"
      },
      "execution_count": null,
      "outputs": []
    },
    {
      "cell_type": "code",
      "source": [
        "# 문자열로 지정된 명시적 인덱스를 사용해서 슬라이싱\n"
      ],
      "metadata": {
        "id": "4RtTHFDhekoh"
      },
      "execution_count": null,
      "outputs": []
    },
    {
      "cell_type": "code",
      "source": [
        "# 암시적 정수 인덱스를 사용하여 슬라이싱\n"
      ],
      "metadata": {
        "id": "n3twZM3lella"
      },
      "execution_count": null,
      "outputs": []
    },
    {
      "cell_type": "code",
      "source": [
        "# 인덱스를 활용한 데이터의 추가\n",
        "# 없는 인덱스로 데이터를 조회할 순 없지만 추가할 순 있다.\n"
      ],
      "metadata": {
        "id": "xJu93r5NemhD"
      },
      "execution_count": null,
      "outputs": []
    },
    {
      "cell_type": "markdown",
      "source": [
        "- 시리즈를 사전으로 벼환"
      ],
      "metadata": {
        "id": "Dw3MaZK2rxyC"
      }
    },
    {
      "cell_type": "code",
      "source": [
        "# 방법 1"
      ],
      "metadata": {
        "id": "frF2JHZ0ro9P"
      },
      "execution_count": null,
      "outputs": []
    },
    {
      "cell_type": "code",
      "source": [
        "# 방법 2"
      ],
      "metadata": {
        "id": "Rh2Vb_8LsDGt"
      },
      "execution_count": null,
      "outputs": []
    },
    {
      "cell_type": "markdown",
      "source": [
        "### 정렬\n",
        "\n",
        "- 인덱스로 정렬: `sort_index(ascending=True|False)`\n",
        "- 값으로 정렬: `sort_values(ascending=True|False)`"
      ],
      "metadata": {
        "id": "j6T7CSOTewUS"
      }
    },
    {
      "cell_type": "code",
      "source": [
        "# 인덱스로 정렬\n"
      ],
      "metadata": {
        "id": "Wh9H5lE6eogs"
      },
      "execution_count": null,
      "outputs": []
    },
    {
      "cell_type": "code",
      "source": [
        "# 값으로 정렬\n"
      ],
      "metadata": {
        "id": "KDttYM3Ae9Cv"
      },
      "execution_count": null,
      "outputs": []
    },
    {
      "cell_type": "markdown",
      "source": [
        "- 판다스에서 대부분 함수들은 작용하는 객체에 영향일 미치지 않고 함수가 작용된 결과를 되돌려 줍니다."
      ],
      "metadata": {
        "id": "uFRETtzdfBUD"
      }
    },
    {
      "cell_type": "code",
      "source": [
        "# 인덱스 정렬 정렬후 확인하면 정렬이 안되어 있음\n"
      ],
      "metadata": {
        "id": "gd7F7Dize-k_"
      },
      "execution_count": null,
      "outputs": []
    },
    {
      "cell_type": "code",
      "source": [
        "# 정렬 결과 업데이트\n"
      ],
      "metadata": {
        "id": "uCU2bGnOfCpt"
      },
      "execution_count": null,
      "outputs": []
    },
    {
      "cell_type": "markdown",
      "source": [
        "### 연습\n",
        "\n",
        "- 다음 시리즈를\n",
        "    - 1. 인덱스 오름차순으로 정렬하세요.\n",
        "    - 2. 값 내림차순으로 정렬하세요."
      ],
      "metadata": {
        "id": "eJzJl6JRhes4"
      }
    },
    {
      "cell_type": "code",
      "source": [
        "data = pd.Series([3, 1, 4, 1, 5], index=[5, 3, 4, 1, 2])"
      ],
      "metadata": {
        "id": "v1KQLnHTfxGj"
      },
      "execution_count": null,
      "outputs": []
    },
    {
      "cell_type": "code",
      "source": [
        "# 인덱스 오름차순 정렬\n"
      ],
      "metadata": {
        "id": "DNs7Kg76gYyH"
      },
      "execution_count": null,
      "outputs": []
    },
    {
      "cell_type": "code",
      "source": [
        "# 값 내림차순 정렬\n"
      ],
      "metadata": {
        "id": "vdJr-GVShwkm"
      },
      "execution_count": null,
      "outputs": []
    },
    {
      "cell_type": "markdown",
      "source": [
        "## 시리즈 연산\n",
        "\n",
        "- 시리즈의 연산은 요소별로 작용한다는 점은 numpy와 비슷하나 결정적으로 다른 점이 몇가지 있습니다. 아래 예를 보면서 직접 확인해보겠습니다."
      ],
      "metadata": {
        "id": "Vls0-qf_h2Bs"
      }
    },
    {
      "cell_type": "code",
      "source": [
        "# 넘파이에서 연산\n"
      ],
      "metadata": {
        "id": "xxzCfa5yhzZ4"
      },
      "execution_count": null,
      "outputs": []
    },
    {
      "cell_type": "code",
      "source": [
        "#시리즈 연산, 암시적 인덱스라면 엘리먼트끼리 연산\n"
      ],
      "metadata": {
        "id": "QyoNGPhZh4a5"
      },
      "execution_count": null,
      "outputs": []
    },
    {
      "cell_type": "code",
      "source": [
        "# 명시적 인덱스라면 인덱스가 같은 것끼리 연산\n"
      ],
      "metadata": {
        "id": "GOB9HfBWh5eo"
      },
      "execution_count": null,
      "outputs": []
    },
    {
      "cell_type": "markdown",
      "source": [
        "- 브로드 캐스팅도 지원"
      ],
      "metadata": {
        "id": "d-EUGwNsh8sS"
      }
    },
    {
      "cell_type": "code",
      "source": [
        "# 브로드캐스팅\n"
      ],
      "metadata": {
        "id": "N1AyeVnoh7Ti"
      },
      "execution_count": null,
      "outputs": []
    },
    {
      "cell_type": "markdown",
      "source": [
        "- 각종 통계 연산 지원"
      ],
      "metadata": {
        "id": "b1-bRig0iBrL"
      }
    },
    {
      "cell_type": "code",
      "source": [
        "# 각종 통계값 연산, 평균, 분산, 표준편차\n"
      ],
      "metadata": {
        "id": "YtA01DQviARp"
      },
      "execution_count": null,
      "outputs": []
    },
    {
      "cell_type": "markdown",
      "source": [
        "- 데이터에 비어있는 값(NaN)이 있는 경우 무시하고 계산"
      ],
      "metadata": {
        "id": "j2D96XaOiGTV"
      }
    },
    {
      "cell_type": "code",
      "source": [
        "# NaN(Not a Number)이 있어도 무시하고 계산\n"
      ],
      "metadata": {
        "id": "SleJn1EbiEqg"
      },
      "execution_count": null,
      "outputs": []
    },
    {
      "cell_type": "markdown",
      "source": [
        "- 하지만 numpy는 계산 불가"
      ],
      "metadata": {
        "id": "BgOm608TiNpp"
      }
    },
    {
      "cell_type": "code",
      "source": [
        "# 넘파이는 NaN있음 계산 불가\n"
      ],
      "metadata": {
        "id": "J1pS1d4piL_v"
      },
      "execution_count": null,
      "outputs": []
    },
    {
      "cell_type": "code",
      "source": [
        "# skipna 옵션을 주면 nan을 스킵하지 않고 계산\n"
      ],
      "metadata": {
        "id": "V1gMNLgFoc2t"
      },
      "execution_count": null,
      "outputs": []
    },
    {
      "cell_type": "markdown",
      "source": [
        "- 인덱스가 완전히 일치하지 않아도 최대한 맞는 인덱스끼리 연산"
      ],
      "metadata": {
        "id": "NO_Xy7ddiRxt"
      }
    },
    {
      "cell_type": "code",
      "source": [
        "# 인덱스가 완전히 일치하지 않아도 최대한 맞는 인덱스끼리 연산\n"
      ],
      "metadata": {
        "id": "cZqi65EOiP9d"
      },
      "execution_count": null,
      "outputs": []
    },
    {
      "cell_type": "markdown",
      "source": [
        "- 개수가 일치하지 않아도 인덱스를 기준으로 연산"
      ],
      "metadata": {
        "id": "fJfHeAb1iXFf"
      }
    },
    {
      "cell_type": "code",
      "source": [
        "# 양쪽 시리즈의 개수가 맞지 않아도 인덱스 맞는 것끼리 연산\n"
      ],
      "metadata": {
        "id": "vmob4b52iUo8"
      },
      "execution_count": null,
      "outputs": []
    },
    {
      "cell_type": "markdown",
      "source": [
        "### 연습\n",
        "\n",
        "- 다음 자료를 이용하여 `students`를 인덱스로 `scores`를 값으로 하는 시리즈를 만들고 시험 점수의 평균을 구하세요."
      ],
      "metadata": {
        "id": "4PO3R9D_jUwF"
      }
    },
    {
      "cell_type": "code",
      "source": [
        "students = ['영수', '지민', '철수', '길동', '혜정', '수정']\n",
        "scores = [89, 80, 92, 78, 75, 94]"
      ],
      "metadata": {
        "id": "GlF-D09PiaaD"
      },
      "execution_count": null,
      "outputs": []
    },
    {
      "cell_type": "code",
      "source": [],
      "metadata": {
        "id": "S5wTkwl8mdf9"
      },
      "execution_count": null,
      "outputs": []
    },
    {
      "cell_type": "markdown",
      "source": [
        "## 불린 인덱싱, 어레이 인덱싱"
      ],
      "metadata": {
        "id": "bws3Rvehm3uN"
      }
    },
    {
      "cell_type": "code",
      "source": [
        "# 불린 인덱싱\n"
      ],
      "metadata": {
        "id": "WxHcP9MImzC6"
      },
      "execution_count": null,
      "outputs": []
    },
    {
      "cell_type": "markdown",
      "source": [
        "- 조건이 2개 이상일 경우 &(and)와 or |(or)를 이용해서 조건 결합 가능"
      ],
      "metadata": {
        "id": "elECZAZLnRvb"
      }
    },
    {
      "cell_type": "code",
      "source": [
        "# 조건 2개 이상, 괄호 꼭 필요\n"
      ],
      "metadata": {
        "id": "WNka-URCm5fM"
      },
      "execution_count": null,
      "outputs": []
    },
    {
      "cell_type": "code",
      "source": [
        "# 주로 컨디션 변수를 사용\n"
      ],
      "metadata": {
        "id": "VYGcujSfm9j8"
      },
      "execution_count": null,
      "outputs": []
    },
    {
      "cell_type": "markdown",
      "source": [
        "### 연습\n",
        "\n",
        "- 다음 조건에 맞도록 `s`에서 값을 추출하세요."
      ],
      "metadata": {
        "id": "1SQnDuo1nAP8"
      }
    },
    {
      "cell_type": "code",
      "source": [
        "# s에 대해서 or -> |,  3보다 같거나 작다 또는 7보다 같거나 크다[*]\n"
      ],
      "metadata": {
        "id": "k8HAucpnm-n8"
      },
      "execution_count": null,
      "outputs": []
    },
    {
      "cell_type": "markdown",
      "source": [
        "- 인덱스값을 리스트로 묶어서 여러 값을 조회 가능"
      ],
      "metadata": {
        "id": "fFSc9tkTndmC"
      }
    },
    {
      "cell_type": "code",
      "source": [],
      "metadata": {
        "id": "0F526u42nFO1"
      },
      "execution_count": null,
      "outputs": []
    },
    {
      "cell_type": "markdown",
      "source": [
        "- 어레이 인덱스를 사용하여 값을 한꺼번에 치환 가능"
      ],
      "metadata": {
        "id": "zr402QmgnkRD"
      }
    },
    {
      "cell_type": "code",
      "source": [],
      "metadata": {
        "id": "me8S8CK1njT2"
      },
      "execution_count": null,
      "outputs": []
    },
    {
      "cell_type": "markdown",
      "source": [
        "##종합 연습"
      ],
      "metadata": {
        "id": "HDTlntZGn4zT"
      }
    },
    {
      "cell_type": "code",
      "source": [
        "students = ['영수', '지민', '철수', '길동', '혜정', '수정', '대만', '형석', '민준', '민석']\n",
        "scores = [89, 80, 92, 78, 75, 94, 39, None, 95, 83]"
      ],
      "metadata": {
        "id": "ycRoPdNan0uY"
      },
      "execution_count": null,
      "outputs": []
    },
    {
      "cell_type": "code",
      "source": [
        "# 1. 인덱스를 학생이름, 값으로 시험점수를 가지는 시리즈 만들기\n"
      ],
      "metadata": {
        "id": "RHgWljOnqd9x"
      },
      "execution_count": null,
      "outputs": []
    },
    {
      "cell_type": "code",
      "source": [
        "# 2. 시험 점수의 평균점과 표준편차를 구하기\n"
      ],
      "metadata": {
        "id": "wtsCmbvtrHXa"
      },
      "execution_count": null,
      "outputs": []
    },
    {
      "cell_type": "code",
      "source": [
        "# 3. 시험점수의 최댓값과 최솟값을 구하기\n"
      ],
      "metadata": {
        "id": "ZX0lsjbtsJWU"
      },
      "execution_count": null,
      "outputs": []
    },
    {
      "cell_type": "code",
      "source": [
        "# 4. 40점 초과 학생만 선택하기\n"
      ],
      "metadata": {
        "id": "xszXTmwMsg6P"
      },
      "execution_count": null,
      "outputs": []
    },
    {
      "cell_type": "code",
      "source": [
        "# 5. 40점 초과  80점 미만 학생에 대한 평균과 표준편차 구하기\n"
      ],
      "metadata": {
        "id": "o1Gt7xRPsotu"
      },
      "execution_count": null,
      "outputs": []
    },
    {
      "cell_type": "code",
      "source": [],
      "metadata": {
        "id": "r2AwbILYs6bc"
      },
      "execution_count": null,
      "outputs": []
    }
  ]
}